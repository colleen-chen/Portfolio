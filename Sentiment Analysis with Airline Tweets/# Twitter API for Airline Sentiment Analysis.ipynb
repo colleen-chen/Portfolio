{
 "cells": [
  {
   "cell_type": "markdown",
   "metadata": {},
   "source": [
    "# Twitter API for Airline Sentiment Analysis\n",
    "Author: Matthew Huh\n",
    "\n",
    "\n",
    "The objective of this program is to retrieve tweets about each airline from twitter. Since the twitter API limits access to tweets from the past week, the data is time sensitive, and non-repeatable. The output of this program will be a csv file that will be used as the testing set for the main project. To see how this dataset will be utilized, please view the project below.\n",
    "\n",
    "Sentiment Analysis using Airline Tweets\n",
    "https://github.com/mhuh22/Thinkful/blob/master/Bootcamp/Unit%207/Sentiment%20Analysis%20using%20Airline%20Tweets.ipynb\n",
    "\n",
    "### Packages"
   ]
  },
  {
   "cell_type": "code",
   "execution_count": 1,
   "metadata": {},
   "outputs": [],
   "source": [
    "import tweepy\n",
    "import twitter_credentials\n",
    "from textblob import TextBlob\n",
    "import pandas as pd\n",
    "import time\n",
    "import datetime\n",
    "import os"
   ]
  },
  {
   "cell_type": "code",
   "execution_count": 2,
   "metadata": {},
   "outputs": [],
   "source": [
    "# Entering credentials to utilize Tweepy\n",
    "\n",
    "auth = tweepy.OAuthHandler(twitter_credentials.CONSUMER_KEY, twitter_credentials.CONSUMER_SECRET)\n",
    "auth.set_access_token(twitter_credentials.ACCESS_TOKEN, twitter_credentials.ACCESS_TOKEN_SECRET)\n",
    "\n",
    "api = tweepy.API(auth)"
   ]
  },
  {
   "cell_type": "code",
   "execution_count": 3,
   "metadata": {},
   "outputs": [
    {
     "name": "stdout",
     "output_type": "stream",
     "text": [
      "{'limit': 180, 'remaining': 180, 'reset': 1543528259}\n"
     ]
    }
   ],
   "source": [
    "# View search rate limit\n",
    "data = api.rate_limit_status()\n",
    "print(data['resources']['search']['/search/tweets'])"
   ]
  },
  {
   "cell_type": "code",
   "execution_count": 4,
   "metadata": {},
   "outputs": [],
   "source": [
    "class listener (tweepy.StreamListener):\n",
    "     \n",
    "    def on_data(self, data, time_limit=1):\n",
    "        self.start_time = time.time()\n",
    "        self.limit = time_limit\n",
    "        try:\n",
    "            print(data)            \n",
    "            saveFile = open('twitDB.csv', 'a')\n",
    "            saveFile.write(data)\n",
    "            saveFile.write('\\n')\n",
    "            saveFile.close()\n",
    "            return(True)\n",
    "        except BaseException:\n",
    "            print('failed ondata', str(e))\n",
    "            time.sleep(5)\n",
    "    \n",
    "    def on_error(self, status):\n",
    "        print(status)"
   ]
  },
  {
   "cell_type": "code",
   "execution_count": 5,
   "metadata": {},
   "outputs": [
    {
     "name": "stdout",
     "output_type": "stream",
     "text": [
      "['@AlaskaAir', '@Allegiant', '@AmericanAir', '@Delta', '@FlyFrontier', '@HawaiianAir', '@JetBlue', '@SouthwestAir', '@SpiritAirlines', '@united']\n"
     ]
    }
   ],
   "source": [
    "# Create dataframe to store twitter information\n",
    "tweet_df = pd.DataFrame(columns=['airline', 'text'])\n",
    "\n",
    "# A list of the official airline accounts\n",
    "trained_airlines = ['@AmericanAir', '@Delta', '@SouthwestAir', '@united']\n",
    "test_airlines = ['@AlaskaAir','@Allegiant','@FlyFrontier','@HawaiianAir','@JetBlue', '@SpiritAirlines']\n",
    "airlines = sorted(trained_airlines + test_airlines)\n",
    "\n",
    "# View list of all airlines\n",
    "print(airlines)"
   ]
  },
  {
   "cell_type": "code",
   "execution_count": 6,
   "metadata": {},
   "outputs": [],
   "source": [
    "# Access data for each airline, and append to the dataframe\n",
    "\n",
    "# Query limit is 180 per 15 minutes, so this is the most we can do\n",
    "for i in range(18):\n",
    "    \n",
    "    # Query each airline and retrieve up to 100 tweets\n",
    "    for airline in airlines:\n",
    "        airline_tweets = api.search(airline, count=100)\n",
    "        \n",
    "        # Append each tweet to the dataframe\n",
    "        for tweet in airline_tweets:\n",
    "            tweet_df = tweet_df.append({'airline': airline, 'text':tweet.text}, ignore_index=True)"
   ]
  },
  {
   "cell_type": "code",
   "execution_count": 7,
   "metadata": {},
   "outputs": [
    {
     "name": "stdout",
     "output_type": "stream",
     "text": [
      "{'limit': 180, 'remaining': 0, 'reset': 1543528259}\n"
     ]
    }
   ],
   "source": [
    "# View search rate limit\n",
    "data = api.rate_limit_status()\n",
    "print(data['resources']['search']['/search/tweets'])"
   ]
  },
  {
   "cell_type": "code",
   "execution_count": 8,
   "metadata": {},
   "outputs": [
    {
     "data": {
      "text/plain": [
       "(18000, 2)"
      ]
     },
     "execution_count": 8,
     "metadata": {},
     "output_type": "execute_result"
    }
   ],
   "source": [
    "# View the shape of the dataframe\n",
    "tweet_df.shape"
   ]
  },
  {
   "cell_type": "code",
   "execution_count": 9,
   "metadata": {},
   "outputs": [
    {
     "data": {
      "text/html": [
       "<div>\n",
       "<style scoped>\n",
       "    .dataframe tbody tr th:only-of-type {\n",
       "        vertical-align: middle;\n",
       "    }\n",
       "\n",
       "    .dataframe tbody tr th {\n",
       "        vertical-align: top;\n",
       "    }\n",
       "\n",
       "    .dataframe thead th {\n",
       "        text-align: right;\n",
       "    }\n",
       "</style>\n",
       "<table border=\"1\" class=\"dataframe\">\n",
       "  <thead>\n",
       "    <tr style=\"text-align: right;\">\n",
       "      <th></th>\n",
       "      <th>airline</th>\n",
       "      <th>text</th>\n",
       "    </tr>\n",
       "  </thead>\n",
       "  <tbody>\n",
       "    <tr>\n",
       "      <th>0</th>\n",
       "      <td>@AlaskaAir</td>\n",
       "      <td>RT @AlaskaAir: Happy birthday to our Chief Foo...</td>\n",
       "    </tr>\n",
       "    <tr>\n",
       "      <th>1</th>\n",
       "      <td>@AlaskaAir</td>\n",
       "      <td>@AlaskaAir My monthly+ flughts in and out of M...</td>\n",
       "    </tr>\n",
       "    <tr>\n",
       "      <th>2</th>\n",
       "      <td>@AlaskaAir</td>\n",
       "      <td>RT @ChrisEgan5: UW #Husky fans fired up for @p...</td>\n",
       "    </tr>\n",
       "    <tr>\n",
       "      <th>3</th>\n",
       "      <td>@AlaskaAir</td>\n",
       "      <td>@ChrisEgan5 @mcclainfan59 @pac12 @AlaskaAir @U...</td>\n",
       "    </tr>\n",
       "    <tr>\n",
       "      <th>4</th>\n",
       "      <td>@AlaskaAir</td>\n",
       "      <td>@AlaskaAir Stupid, stupid decision!!</td>\n",
       "    </tr>\n",
       "  </tbody>\n",
       "</table>\n",
       "</div>"
      ],
      "text/plain": [
       "      airline                                               text\n",
       "0  @AlaskaAir  RT @AlaskaAir: Happy birthday to our Chief Foo...\n",
       "1  @AlaskaAir  @AlaskaAir My monthly+ flughts in and out of M...\n",
       "2  @AlaskaAir  RT @ChrisEgan5: UW #Husky fans fired up for @p...\n",
       "3  @AlaskaAir  @ChrisEgan5 @mcclainfan59 @pac12 @AlaskaAir @U...\n",
       "4  @AlaskaAir               @AlaskaAir Stupid, stupid decision!!"
      ]
     },
     "execution_count": 9,
     "metadata": {},
     "output_type": "execute_result"
    }
   ],
   "source": [
    "# Preview the data to verify it worked\n",
    "tweet_df.head()"
   ]
  },
  {
   "cell_type": "code",
   "execution_count": 10,
   "metadata": {},
   "outputs": [],
   "source": [
    "# Save extracted data to a local directory\n",
    "if os.path.exists('airline_tweets/test_set.csv'):\n",
    "    os.remove('airline_tweets/test_set.csv')\n",
    "tweet_df.to_csv('airline_tweets/test_set.csv', encoding='utf-8')"
   ]
  },
  {
   "cell_type": "markdown",
   "metadata": {},
   "source": [
    "### Note: Accessing this file from another location\n",
    "\n",
    "This file requires a separate file called twitter_credentials.py with the following format\n",
    "\n",
    "CONSUMER_KEY = \n",
    "CONSUMER_SECRET = \n",
    "ACCESS_TOKEN = \n",
    "ACCESS_TOKEN_SECRET = \n",
    "\n",
    "Find credentials here after logging in \n",
    "https://apps.twitter.com/app/15976800/keys"
   ]
  }
 ],
 "metadata": {
  "kernelspec": {
   "display_name": "Python 3",
   "language": "python",
   "name": "python3"
  },
  "language_info": {
   "codemirror_mode": {
    "name": "ipython",
    "version": 3
   },
   "file_extension": ".py",
   "mimetype": "text/x-python",
   "name": "python",
   "nbconvert_exporter": "python",
   "pygments_lexer": "ipython3",
   "version": "3.7.0"
  }
 },
 "nbformat": 4,
 "nbformat_minor": 2
}
