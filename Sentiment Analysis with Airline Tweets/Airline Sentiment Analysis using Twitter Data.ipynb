{
 "cells": [
  {
   "cell_type": "markdown",
   "metadata": {},
   "source": [
    "# Sentiment Analysis using Airline Tweets\n",
    "Author: Matthew Huh\n",
    "\n",
    "## Introduction\n",
    "\n",
    "Social media is a treasure trove of textual data. It’s a free and easy way for users to express themselves and share whatever they want to say, get attention, and even start movements. \n",
    "\n",
    "It’s a powerful way for companies to get an idea of what users think about them, understand how their brands may be perceived, and identify ways to improve business by analyzing the concerns that users have with their products or services. And that is what I aim to accomplish in this project, by analyzing mentions of a few airlines and determining how people perceive their options, and evaluate what concerns people are mentioning. \n",
    "\n",
    "\n",
    "## About the Data\n",
    "\n",
    "The data for this project has been obtained from two sources. The first data set is a collection of data pre-compiled from crowdflower, and is freely available on Kaggle. The second data set has been obtained using Twitter’s API (tweepy to be precise) \n",
    "\n",
    "The first data set has far more information as the data has been reviewed by people to determine the sentiment, and the rationale behind negative comments. The tweets have been evaluated by people and for the sake of simplicity, we will be assuming that those results are correct. The data set contains data from February 2015 and only mentions 6 different airlines ('American', 'Delta', 'Southwest', 'US Airways', 'United', 'Virgin America'). \n",
    "\n",
    "Our second data set is more recent, November 2018, and has both the same airlines in our training set, but also a few more airlines that aren’t. This is done in order to introduce data that we haven’t trained with yet. In theory, the models developed in this project should be able to do just that.\n",
    "\n",
    "## Research Question\n",
    "\n",
    "How accurate of a model can we build to determine a tweet's sentiment?\n",
    "\n",
    "\n",
    "## Sources\n",
    "\n",
    "\n",
    "https://www.kaggle.com/crowdflower/twitter-airline-sentiment (Pre-compiled Kaggle data)\n",
    "\n",
    "\n",
    "http://nbviewer.jupyter.org/github/mhuh22/Thinkful/blob/master/Bootcamp/Unit%207/Twitter%20API%20%40Airline%20Tweets.ipynb (Tweepy Script)\n",
    "\n",
    "\n",
    "## To-do list\n",
    "\n",
    "### Necessary\n",
    "* Profread, and add the text (Yes, this is intentional)\n",
    "* Implement NLP methods (LSA, LDA, NNMF)\n",
    "\n",
    "\n",
    "* Implement clustering methods to tweets\n",
    "\n",
    "\n",
    "* Done: Run machine learning models\n",
    "* Todo: Optimize machine learning models\n",
    "\n",
    "### Small Things\n",
    "\n",
    "* Remove @mentions\n",
    "* Change max_words parameter for tf-idf later\n",
    "(\n",
    "150 = 73%\n",
    "600 = 77%\n",
    "6000 is max)\n",
    "\n",
    "\n",
    "### Optional\n",
    "* Done: Extract twitter data for testing data set (sort of)\n",
    "* Todo: Extract more data? (Is 18,000 possible?)\n",
    "\n",
    "<div class=\"alert alert-block alert-warning\">\n",
    "Note: The visuals for this project do not render correctly on Github; if you would like to view the presentation the way it was meant to be viewed, please click on the following link.\n",
    "\n",
    "http://nbviewer.jupyter.org/github/mhuh22/Thinkful/blob/master/Bootcamp/Unit%207/Sentiment%20Analysis%20using%20Airline%20Tweets.ipynb\n",
    "</div>\n",
    "\n",
    "## Packages"
   ]
  },
  {
   "cell_type": "code",
   "execution_count": 1,
   "metadata": {},
   "outputs": [
    {
     "name": "stderr",
     "output_type": "stream",
     "text": [
      "C:\\Users\\mhuh22\\Anaconda3\\lib\\site-packages\\sklearn\\ensemble\\weight_boosting.py:29: DeprecationWarning: numpy.core.umath_tests is an internal NumPy module and should not be imported. It will be removed in a future NumPy release.\n",
      "  from numpy.core.umath_tests import inner1d\n"
     ]
    },
    {
     "data": {
      "text/html": [
       "<script type=\"text/javascript\">window.PlotlyConfig = {MathJaxConfig: 'local'};</script><script type=\"text/javascript\">if (window.MathJax) {MathJax.Hub.Config({SVG: {font: \"STIX-Web\"}});}</script><script>requirejs.config({paths: { 'plotly': ['https://cdn.plot.ly/plotly-latest.min']},});if(!window._Plotly) {require(['plotly'],function(plotly) {window._Plotly=plotly;});}</script>"
      ],
      "text/vnd.plotly.v1+html": [
       "<script type=\"text/javascript\">window.PlotlyConfig = {MathJaxConfig: 'local'};</script><script type=\"text/javascript\">if (window.MathJax) {MathJax.Hub.Config({SVG: {font: \"STIX-Web\"}});}</script><script>requirejs.config({paths: { 'plotly': ['https://cdn.plot.ly/plotly-latest.min']},});if(!window._Plotly) {require(['plotly'],function(plotly) {window._Plotly=plotly;});}</script>"
      ]
     },
     "metadata": {},
     "output_type": "display_data"
    }
   ],
   "source": [
    "# Necessary imports\n",
    "import os\n",
    "import time\n",
    "import timeit\n",
    "import numpy as np\n",
    "import pandas as pd\n",
    "import scipy\n",
    "import sklearn\n",
    "import matplotlib.pyplot as plt\n",
    "import seaborn as sns\n",
    "from sklearn.utils import resample\n",
    "%matplotlib inline\n",
    "\n",
    "# Modelling packages\n",
    "from sklearn import ensemble\n",
    "from sklearn.feature_selection import chi2, f_classif, SelectKBest \n",
    "from sklearn.linear_model import LogisticRegression\n",
    "from sklearn.metrics import classification_report, confusion_matrix\n",
    "from sklearn.model_selection import cross_val_score, GridSearchCV, train_test_split\n",
    "from sklearn.neural_network import MLPClassifier\n",
    "from sklearn.preprocessing import normalize\n",
    "\n",
    "# Natural Language processing\n",
    "import nltk\n",
    "import re\n",
    "import spacy\n",
    "from collections import Counter\n",
    "from nltk.corpus import stopwords\n",
    "from nltk.stem import WordNetLemmatizer\n",
    "from sklearn.datasets import fetch_rcv1\n",
    "from sklearn.decomposition import NMF, TruncatedSVD, LatentDirichletAllocation as LDA\n",
    "from sklearn.feature_extraction.text import TfidfVectorizer\n",
    "from sklearn.pipeline import make_pipeline\n",
    "from sklearn.preprocessing import Normalizer\n",
    "from nltk.corpus import stopwords\n",
    "from wordcloud import WordCloud, STOPWORDS\n",
    "\n",
    "# Clustering packages\n",
    "import sklearn.cluster as cluster\n",
    "from sklearn.cluster import KMeans, MeanShift, estimate_bandwidth, SpectralClustering, AffinityPropagation\n",
    "from scipy.spatial.distance import cdist\n",
    "\n",
    "# Plotly packages\n",
    "import cufflinks as cf\n",
    "import ipywidgets as widgets\n",
    "import plotly as py\n",
    "import plotly.figure_factory as ff\n",
    "import plotly.graph_objs as go\n",
    "from plotly import tools\n",
    "from scipy import special\n",
    "py.offline.init_notebook_mode(connected=True)"
   ]
  },
  {
   "cell_type": "code",
   "execution_count": 2,
   "metadata": {},
   "outputs": [
    {
     "data": {
      "text/html": [
       "<div>\n",
       "<style scoped>\n",
       "    .dataframe tbody tr th:only-of-type {\n",
       "        vertical-align: middle;\n",
       "    }\n",
       "\n",
       "    .dataframe tbody tr th {\n",
       "        vertical-align: top;\n",
       "    }\n",
       "\n",
       "    .dataframe thead th {\n",
       "        text-align: right;\n",
       "    }\n",
       "</style>\n",
       "<table border=\"1\" class=\"dataframe\">\n",
       "  <thead>\n",
       "    <tr style=\"text-align: right;\">\n",
       "      <th></th>\n",
       "      <th>tweet_id</th>\n",
       "      <th>airline_sentiment</th>\n",
       "      <th>airline_sentiment_confidence</th>\n",
       "      <th>negativereason</th>\n",
       "      <th>negativereason_confidence</th>\n",
       "      <th>airline</th>\n",
       "      <th>airline_sentiment_gold</th>\n",
       "      <th>name</th>\n",
       "      <th>negativereason_gold</th>\n",
       "      <th>retweet_count</th>\n",
       "      <th>text</th>\n",
       "      <th>tweet_coord</th>\n",
       "      <th>tweet_created</th>\n",
       "      <th>tweet_location</th>\n",
       "      <th>user_timezone</th>\n",
       "    </tr>\n",
       "  </thead>\n",
       "  <tbody>\n",
       "    <tr>\n",
       "      <th>0</th>\n",
       "      <td>570306133677760513</td>\n",
       "      <td>neutral</td>\n",
       "      <td>1.0000</td>\n",
       "      <td>NaN</td>\n",
       "      <td>NaN</td>\n",
       "      <td>Virgin America</td>\n",
       "      <td>NaN</td>\n",
       "      <td>cairdin</td>\n",
       "      <td>NaN</td>\n",
       "      <td>0</td>\n",
       "      <td>@VirginAmerica What @dhepburn said.</td>\n",
       "      <td>NaN</td>\n",
       "      <td>2015-02-24 11:35:52 -0800</td>\n",
       "      <td>NaN</td>\n",
       "      <td>Eastern Time (US &amp; Canada)</td>\n",
       "    </tr>\n",
       "    <tr>\n",
       "      <th>1</th>\n",
       "      <td>570301130888122368</td>\n",
       "      <td>positive</td>\n",
       "      <td>0.3486</td>\n",
       "      <td>NaN</td>\n",
       "      <td>0.0000</td>\n",
       "      <td>Virgin America</td>\n",
       "      <td>NaN</td>\n",
       "      <td>jnardino</td>\n",
       "      <td>NaN</td>\n",
       "      <td>0</td>\n",
       "      <td>@VirginAmerica plus you've added commercials t...</td>\n",
       "      <td>NaN</td>\n",
       "      <td>2015-02-24 11:15:59 -0800</td>\n",
       "      <td>NaN</td>\n",
       "      <td>Pacific Time (US &amp; Canada)</td>\n",
       "    </tr>\n",
       "    <tr>\n",
       "      <th>2</th>\n",
       "      <td>570301083672813571</td>\n",
       "      <td>neutral</td>\n",
       "      <td>0.6837</td>\n",
       "      <td>NaN</td>\n",
       "      <td>NaN</td>\n",
       "      <td>Virgin America</td>\n",
       "      <td>NaN</td>\n",
       "      <td>yvonnalynn</td>\n",
       "      <td>NaN</td>\n",
       "      <td>0</td>\n",
       "      <td>@VirginAmerica I didn't today... Must mean I n...</td>\n",
       "      <td>NaN</td>\n",
       "      <td>2015-02-24 11:15:48 -0800</td>\n",
       "      <td>Lets Play</td>\n",
       "      <td>Central Time (US &amp; Canada)</td>\n",
       "    </tr>\n",
       "    <tr>\n",
       "      <th>3</th>\n",
       "      <td>570301031407624196</td>\n",
       "      <td>negative</td>\n",
       "      <td>1.0000</td>\n",
       "      <td>Bad Flight</td>\n",
       "      <td>0.7033</td>\n",
       "      <td>Virgin America</td>\n",
       "      <td>NaN</td>\n",
       "      <td>jnardino</td>\n",
       "      <td>NaN</td>\n",
       "      <td>0</td>\n",
       "      <td>@VirginAmerica it's really aggressive to blast...</td>\n",
       "      <td>NaN</td>\n",
       "      <td>2015-02-24 11:15:36 -0800</td>\n",
       "      <td>NaN</td>\n",
       "      <td>Pacific Time (US &amp; Canada)</td>\n",
       "    </tr>\n",
       "    <tr>\n",
       "      <th>4</th>\n",
       "      <td>570300817074462722</td>\n",
       "      <td>negative</td>\n",
       "      <td>1.0000</td>\n",
       "      <td>Can't Tell</td>\n",
       "      <td>1.0000</td>\n",
       "      <td>Virgin America</td>\n",
       "      <td>NaN</td>\n",
       "      <td>jnardino</td>\n",
       "      <td>NaN</td>\n",
       "      <td>0</td>\n",
       "      <td>@VirginAmerica and it's a really big bad thing...</td>\n",
       "      <td>NaN</td>\n",
       "      <td>2015-02-24 11:14:45 -0800</td>\n",
       "      <td>NaN</td>\n",
       "      <td>Pacific Time (US &amp; Canada)</td>\n",
       "    </tr>\n",
       "  </tbody>\n",
       "</table>\n",
       "</div>"
      ],
      "text/plain": [
       "             tweet_id airline_sentiment  airline_sentiment_confidence  \\\n",
       "0  570306133677760513           neutral                        1.0000   \n",
       "1  570301130888122368          positive                        0.3486   \n",
       "2  570301083672813571           neutral                        0.6837   \n",
       "3  570301031407624196          negative                        1.0000   \n",
       "4  570300817074462722          negative                        1.0000   \n",
       "\n",
       "  negativereason  negativereason_confidence         airline  \\\n",
       "0            NaN                        NaN  Virgin America   \n",
       "1            NaN                     0.0000  Virgin America   \n",
       "2            NaN                        NaN  Virgin America   \n",
       "3     Bad Flight                     0.7033  Virgin America   \n",
       "4     Can't Tell                     1.0000  Virgin America   \n",
       "\n",
       "  airline_sentiment_gold        name negativereason_gold  retweet_count  \\\n",
       "0                    NaN     cairdin                 NaN              0   \n",
       "1                    NaN    jnardino                 NaN              0   \n",
       "2                    NaN  yvonnalynn                 NaN              0   \n",
       "3                    NaN    jnardino                 NaN              0   \n",
       "4                    NaN    jnardino                 NaN              0   \n",
       "\n",
       "                                                text tweet_coord  \\\n",
       "0                @VirginAmerica What @dhepburn said.         NaN   \n",
       "1  @VirginAmerica plus you've added commercials t...         NaN   \n",
       "2  @VirginAmerica I didn't today... Must mean I n...         NaN   \n",
       "3  @VirginAmerica it's really aggressive to blast...         NaN   \n",
       "4  @VirginAmerica and it's a really big bad thing...         NaN   \n",
       "\n",
       "               tweet_created tweet_location               user_timezone  \n",
       "0  2015-02-24 11:35:52 -0800            NaN  Eastern Time (US & Canada)  \n",
       "1  2015-02-24 11:15:59 -0800            NaN  Pacific Time (US & Canada)  \n",
       "2  2015-02-24 11:15:48 -0800      Lets Play  Central Time (US & Canada)  \n",
       "3  2015-02-24 11:15:36 -0800            NaN  Pacific Time (US & Canada)  \n",
       "4  2015-02-24 11:14:45 -0800            NaN  Pacific Time (US & Canada)  "
      ]
     },
     "execution_count": 2,
     "metadata": {},
     "output_type": "execute_result"
    }
   ],
   "source": [
    "# Import the data\n",
    "tweets = pd.read_csv(\"airline_tweets/Tweets.csv\")\n",
    "\n",
    "# Preview the dataset\n",
    "tweets.head()"
   ]
  },
  {
   "cell_type": "code",
   "execution_count": 3,
   "metadata": {},
   "outputs": [
    {
     "name": "stdout",
     "output_type": "stream",
     "text": [
      "<class 'pandas.core.frame.DataFrame'>\n",
      "RangeIndex: 14640 entries, 0 to 14639\n",
      "Data columns (total 15 columns):\n",
      "tweet_id                        14640 non-null int64\n",
      "airline_sentiment               14640 non-null object\n",
      "airline_sentiment_confidence    14640 non-null float64\n",
      "negativereason                  9178 non-null object\n",
      "negativereason_confidence       10522 non-null float64\n",
      "airline                         14640 non-null object\n",
      "airline_sentiment_gold          40 non-null object\n",
      "name                            14640 non-null object\n",
      "negativereason_gold             32 non-null object\n",
      "retweet_count                   14640 non-null int64\n",
      "text                            14640 non-null object\n",
      "tweet_coord                     1019 non-null object\n",
      "tweet_created                   14640 non-null object\n",
      "tweet_location                  9907 non-null object\n",
      "user_timezone                   9820 non-null object\n",
      "dtypes: float64(2), int64(2), object(11)\n",
      "memory usage: 1.7+ MB\n"
     ]
    }
   ],
   "source": [
    "# View the columns / dtypes in our dataset\n",
    "tweets.info()"
   ]
  },
  {
   "cell_type": "code",
   "execution_count": 4,
   "metadata": {},
   "outputs": [
    {
     "data": {
      "text/plain": [
       "(14640, 15)"
      ]
     },
     "execution_count": 4,
     "metadata": {},
     "output_type": "execute_result"
    }
   ],
   "source": [
    "# View the size of the dataset\n",
    "tweets.shape"
   ]
  },
  {
   "cell_type": "markdown",
   "metadata": {},
   "source": [
    "This dataset has a bit more information than we actually need for this project. We definitely need the text information since that is what we are evaluating, the sentiment since that is what we are trying to measure, and the reason to determine what clusters of complaints people are encountering. As for the rest, they could have some impact on the outcome, but they are not what we are trying to measure so, we'll drop the rest before continuing in order to improve our runtimes."
   ]
  },
  {
   "cell_type": "code",
   "execution_count": 5,
   "metadata": {},
   "outputs": [],
   "source": [
    "# Drop columns that have no predictive power\n",
    "tweets.drop(['tweet_id'], axis=1,inplace=True)"
   ]
  },
  {
   "cell_type": "code",
   "execution_count": 6,
   "metadata": {},
   "outputs": [
    {
     "data": {
      "text/plain": [
       "['American', 'Delta', 'Southwest', 'US Airways', 'United', 'Virgin America']"
      ]
     },
     "execution_count": 6,
     "metadata": {},
     "output_type": "execute_result"
    }
   ],
   "source": [
    "# Print unique airlines in the dataset\n",
    "sorted(tweets['airline'].unique())"
   ]
  },
  {
   "cell_type": "code",
   "execution_count": 7,
   "metadata": {},
   "outputs": [
    {
     "data": {
      "text/plain": [
       "airline_sentiment             3\n",
       "negativereason               10\n",
       "airline                       6\n",
       "airline_sentiment_gold        3\n",
       "name                       7701\n",
       "negativereason_gold          13\n",
       "text                      14427\n",
       "tweet_coord                 832\n",
       "tweet_created             14247\n",
       "tweet_location             3081\n",
       "user_timezone                85\n",
       "dtype: int64"
      ]
     },
     "execution_count": 7,
     "metadata": {},
     "output_type": "execute_result"
    }
   ],
   "source": [
    "# Describe unique occurences for each categorical variable\n",
    "tweets.select_dtypes(include=['object']).nunique()"
   ]
  },
  {
   "cell_type": "markdown",
   "metadata": {},
   "source": [
    "## Data Visualization"
   ]
  },
  {
   "cell_type": "code",
   "execution_count": 8,
   "metadata": {},
   "outputs": [
    {
     "data": {
      "application/vnd.plotly.v1+json": {
       "data": [
        {
         "labels": [
          "negative",
          "neutral",
          "positive"
         ],
         "type": "pie",
         "uid": "c2a23e6b-e886-49a1-8d86-2f74698a2c35",
         "values": [
          9178,
          3099,
          2363
         ]
        }
       ],
       "layout": {
        "autosize": false,
        "height": 400,
        "title": "Tweet Sentiment",
        "width": 500,
        "yaxis": {
         "title": "Number of tweets"
        }
       }
      },
      "text/html": [
       "<div id=\"5a132599-e240-401d-89ad-3e0b38762dfb\" style=\"height: 400px; width: 500px;\" class=\"plotly-graph-div\"></div><script type=\"text/javascript\">require([\"plotly\"], function(Plotly) { window.PLOTLYENV=window.PLOTLYENV || {};window.PLOTLYENV.BASE_URL=\"https://plot.ly\";Plotly.newPlot(\"5a132599-e240-401d-89ad-3e0b38762dfb\", [{\"labels\": [\"negative\", \"neutral\", \"positive\"], \"values\": [9178, 3099, 2363], \"type\": \"pie\", \"uid\": \"c2a23e6b-e886-49a1-8d86-2f74698a2c35\"}], {\"autosize\": false, \"height\": 400, \"title\": \"Tweet Sentiment\", \"width\": 500, \"yaxis\": {\"title\": \"Number of tweets\"}}, {\"showLink\": true, \"linkText\": \"Export to plot.ly\"})});</script>"
      ],
      "text/vnd.plotly.v1+html": [
       "<div id=\"5a132599-e240-401d-89ad-3e0b38762dfb\" style=\"height: 400px; width: 500px;\" class=\"plotly-graph-div\"></div><script type=\"text/javascript\">require([\"plotly\"], function(Plotly) { window.PLOTLYENV=window.PLOTLYENV || {};window.PLOTLYENV.BASE_URL=\"https://plot.ly\";Plotly.newPlot(\"5a132599-e240-401d-89ad-3e0b38762dfb\", [{\"labels\": [\"negative\", \"neutral\", \"positive\"], \"values\": [9178, 3099, 2363], \"type\": \"pie\", \"uid\": \"c2a23e6b-e886-49a1-8d86-2f74698a2c35\"}], {\"autosize\": false, \"height\": 400, \"title\": \"Tweet Sentiment\", \"width\": 500, \"yaxis\": {\"title\": \"Number of tweets\"}}, {\"showLink\": true, \"linkText\": \"Export to plot.ly\"})});</script>"
      ]
     },
     "metadata": {},
     "output_type": "display_data"
    }
   ],
   "source": [
    "# View distribution of tweets by sentiment \n",
    "# (Changing colors to red/gray/green would be nice)\n",
    "trace = go.Pie(labels=tweets['airline_sentiment'].value_counts().index, \n",
    "              values=tweets['airline_sentiment'].value_counts())\n",
    "\n",
    "# Create the layout\n",
    "layout = go.Layout(\n",
    "    title = 'Tweet Sentiment',\n",
    "    height = 400,\n",
    "    width = 500,\n",
    "    autosize = False,\n",
    "    yaxis = dict(title='Number of tweets')\n",
    ")\n",
    "\n",
    "fig = go.Figure(data = [trace], layout = layout)\n",
    "py.offline.iplot(fig, filename='cufflinks/simple')"
   ]
  },
  {
   "cell_type": "code",
   "execution_count": 9,
   "metadata": {},
   "outputs": [
    {
     "data": {
      "application/vnd.plotly.v1+json": {
       "data": [
        {
         "opacity": 0.7,
         "type": "bar",
         "uid": "b789ddb7-06c7-4fb0-8a78-63ae19bea5c4",
         "x": [
          "Customer Service Issue",
          "Late Flight",
          "Can't Tell",
          "Cancelled Flight",
          "Lost Luggage",
          "Bad Flight",
          "Flight Booking Problems",
          "Flight Attendant Complaints",
          "longlines",
          "Damaged Luggage"
         ],
         "y": [
          2910,
          1665,
          1190,
          847,
          724,
          580,
          529,
          481,
          178,
          74
         ]
        }
       ],
       "layout": {
        "title": "Negative Tweets by Reason",
        "yaxis": {
         "title": "Number of tweets"
        }
       }
      },
      "text/html": [
       "<div id=\"9ce6d46b-4cf2-4353-8bf7-507f398017d4\" style=\"height: 525px; width: 100%;\" class=\"plotly-graph-div\"></div><script type=\"text/javascript\">require([\"plotly\"], function(Plotly) { window.PLOTLYENV=window.PLOTLYENV || {};window.PLOTLYENV.BASE_URL=\"https://plot.ly\";Plotly.newPlot(\"9ce6d46b-4cf2-4353-8bf7-507f398017d4\", [{\"opacity\": 0.7, \"x\": [\"Customer Service Issue\", \"Late Flight\", \"Can't Tell\", \"Cancelled Flight\", \"Lost Luggage\", \"Bad Flight\", \"Flight Booking Problems\", \"Flight Attendant Complaints\", \"longlines\", \"Damaged Luggage\"], \"y\": [2910, 1665, 1190, 847, 724, 580, 529, 481, 178, 74], \"type\": \"bar\", \"uid\": \"b789ddb7-06c7-4fb0-8a78-63ae19bea5c4\"}], {\"title\": \"Negative Tweets by Reason\", \"yaxis\": {\"title\": \"Number of tweets\"}}, {\"showLink\": true, \"linkText\": \"Export to plot.ly\"})});</script><script type=\"text/javascript\">window.addEventListener(\"resize\", function(){window._Plotly.Plots.resize(document.getElementById(\"9ce6d46b-4cf2-4353-8bf7-507f398017d4\"));});</script>"
      ],
      "text/vnd.plotly.v1+html": [
       "<div id=\"9ce6d46b-4cf2-4353-8bf7-507f398017d4\" style=\"height: 525px; width: 100%;\" class=\"plotly-graph-div\"></div><script type=\"text/javascript\">require([\"plotly\"], function(Plotly) { window.PLOTLYENV=window.PLOTLYENV || {};window.PLOTLYENV.BASE_URL=\"https://plot.ly\";Plotly.newPlot(\"9ce6d46b-4cf2-4353-8bf7-507f398017d4\", [{\"opacity\": 0.7, \"x\": [\"Customer Service Issue\", \"Late Flight\", \"Can't Tell\", \"Cancelled Flight\", \"Lost Luggage\", \"Bad Flight\", \"Flight Booking Problems\", \"Flight Attendant Complaints\", \"longlines\", \"Damaged Luggage\"], \"y\": [2910, 1665, 1190, 847, 724, 580, 529, 481, 178, 74], \"type\": \"bar\", \"uid\": \"b789ddb7-06c7-4fb0-8a78-63ae19bea5c4\"}], {\"title\": \"Negative Tweets by Reason\", \"yaxis\": {\"title\": \"Number of tweets\"}}, {\"showLink\": true, \"linkText\": \"Export to plot.ly\"})});</script><script type=\"text/javascript\">window.addEventListener(\"resize\", function(){window._Plotly.Plots.resize(document.getElementById(\"9ce6d46b-4cf2-4353-8bf7-507f398017d4\"));});</script>"
      ]
     },
     "metadata": {},
     "output_type": "display_data"
    }
   ],
   "source": [
    "# Plots the complaint reasons, and their frequency\n",
    "# (It might be nice to somehow show how common each reason is for each airline)\n",
    "\n",
    "# The input is the number of negative tweets by reason\n",
    "data = [go.Bar(\n",
    "    x = tweets.negativereason.value_counts().index,\n",
    "    y = tweets.negativereason.value_counts(),\n",
    "    opacity = 0.7\n",
    ")]\n",
    "\n",
    "# Create the layout\n",
    "layout = go.Layout(\n",
    "    title = 'Negative Tweets by Reason',\n",
    "    yaxis = dict(title='Number of tweets')\n",
    ")\n",
    "\n",
    "fig = go.Figure(data = data, layout = layout)\n",
    "py.offline.iplot(fig, filename='cufflinks/simple')"
   ]
  },
  {
   "cell_type": "code",
   "execution_count": 10,
   "metadata": {},
   "outputs": [
    {
     "data": {
      "application/vnd.plotly.v1+json": {
       "data": [
        {
         "marker": {
          "color": "rgba(200,0,0,.7)"
         },
         "name": "Negative",
         "type": "bar",
         "uid": "496ef4ad-26b9-4a84-8d4e-8c043a3fbd63",
         "x": [
          "American",
          "Delta",
          "Southwest",
          "US Airways",
          "United",
          "Virgin America"
         ],
         "y": [
          1960,
          955,
          1186,
          2263,
          2633,
          181
         ]
        },
        {
         "marker": {
          "color": "rgba(150,150,150,.7)"
         },
         "name": "Neutral",
         "type": "bar",
         "uid": "b9955306-ee8f-4ba6-b16c-acee0ede3470",
         "x": [
          "American",
          "Delta",
          "Southwest",
          "US Airways",
          "United",
          "Virgin America"
         ],
         "y": [
          463,
          723,
          664,
          381,
          697,
          171
         ]
        },
        {
         "marker": {
          "color": "rgba(0,200,0,.7)"
         },
         "name": "Positive",
         "type": "bar",
         "uid": "2d32ea47-bbf7-41a6-8fc7-f5a8d038667f",
         "x": [
          "American",
          "Delta",
          "Southwest",
          "US Airways",
          "United",
          "Virgin America"
         ],
         "y": [
          336,
          544,
          570,
          269,
          492,
          152
         ]
        }
       ],
       "layout": {
        "barmode": "group",
        "title": "Airline Sentiment (Total Tweets)",
        "yaxis": {
         "title": "Number of tweets"
        }
       }
      },
      "text/html": [
       "<div id=\"5e116f52-43df-4758-b0c8-3480c6e92562\" style=\"height: 525px; width: 100%;\" class=\"plotly-graph-div\"></div><script type=\"text/javascript\">require([\"plotly\"], function(Plotly) { window.PLOTLYENV=window.PLOTLYENV || {};window.PLOTLYENV.BASE_URL=\"https://plot.ly\";Plotly.newPlot(\"5e116f52-43df-4758-b0c8-3480c6e92562\", [{\"marker\": {\"color\": \"rgba(200,0,0,.7)\"}, \"name\": \"Negative\", \"x\": [\"American\", \"Delta\", \"Southwest\", \"US Airways\", \"United\", \"Virgin America\"], \"y\": [1960, 955, 1186, 2263, 2633, 181], \"type\": \"bar\", \"uid\": \"496ef4ad-26b9-4a84-8d4e-8c043a3fbd63\"}, {\"marker\": {\"color\": \"rgba(150,150,150,.7)\"}, \"name\": \"Neutral\", \"x\": [\"American\", \"Delta\", \"Southwest\", \"US Airways\", \"United\", \"Virgin America\"], \"y\": [463, 723, 664, 381, 697, 171], \"type\": \"bar\", \"uid\": \"b9955306-ee8f-4ba6-b16c-acee0ede3470\"}, {\"marker\": {\"color\": \"rgba(0,200,0,.7)\"}, \"name\": \"Positive\", \"x\": [\"American\", \"Delta\", \"Southwest\", \"US Airways\", \"United\", \"Virgin America\"], \"y\": [336, 544, 570, 269, 492, 152], \"type\": \"bar\", \"uid\": \"2d32ea47-bbf7-41a6-8fc7-f5a8d038667f\"}], {\"barmode\": \"group\", \"title\": \"Airline Sentiment (Total Tweets)\", \"yaxis\": {\"title\": \"Number of tweets\"}}, {\"showLink\": true, \"linkText\": \"Export to plot.ly\"})});</script><script type=\"text/javascript\">window.addEventListener(\"resize\", function(){window._Plotly.Plots.resize(document.getElementById(\"5e116f52-43df-4758-b0c8-3480c6e92562\"));});</script>"
      ],
      "text/vnd.plotly.v1+html": [
       "<div id=\"5e116f52-43df-4758-b0c8-3480c6e92562\" style=\"height: 525px; width: 100%;\" class=\"plotly-graph-div\"></div><script type=\"text/javascript\">require([\"plotly\"], function(Plotly) { window.PLOTLYENV=window.PLOTLYENV || {};window.PLOTLYENV.BASE_URL=\"https://plot.ly\";Plotly.newPlot(\"5e116f52-43df-4758-b0c8-3480c6e92562\", [{\"marker\": {\"color\": \"rgba(200,0,0,.7)\"}, \"name\": \"Negative\", \"x\": [\"American\", \"Delta\", \"Southwest\", \"US Airways\", \"United\", \"Virgin America\"], \"y\": [1960, 955, 1186, 2263, 2633, 181], \"type\": \"bar\", \"uid\": \"496ef4ad-26b9-4a84-8d4e-8c043a3fbd63\"}, {\"marker\": {\"color\": \"rgba(150,150,150,.7)\"}, \"name\": \"Neutral\", \"x\": [\"American\", \"Delta\", \"Southwest\", \"US Airways\", \"United\", \"Virgin America\"], \"y\": [463, 723, 664, 381, 697, 171], \"type\": \"bar\", \"uid\": \"b9955306-ee8f-4ba6-b16c-acee0ede3470\"}, {\"marker\": {\"color\": \"rgba(0,200,0,.7)\"}, \"name\": \"Positive\", \"x\": [\"American\", \"Delta\", \"Southwest\", \"US Airways\", \"United\", \"Virgin America\"], \"y\": [336, 544, 570, 269, 492, 152], \"type\": \"bar\", \"uid\": \"2d32ea47-bbf7-41a6-8fc7-f5a8d038667f\"}], {\"barmode\": \"group\", \"title\": \"Airline Sentiment (Total Tweets)\", \"yaxis\": {\"title\": \"Number of tweets\"}}, {\"showLink\": true, \"linkText\": \"Export to plot.ly\"})});</script><script type=\"text/javascript\">window.addEventListener(\"resize\", function(){window._Plotly.Plots.resize(document.getElementById(\"5e116f52-43df-4758-b0c8-3480c6e92562\"));});</script>"
      ]
     },
     "metadata": {},
     "output_type": "display_data"
    }
   ],
   "source": [
    "# Show distribution of texts\n",
    "\n",
    "trace1 = go.Bar(\n",
    "    x = sorted(tweets['airline'].unique()),\n",
    "    y = tweets[tweets['airline_sentiment'] == 'negative'].groupby('airline')['airline_sentiment'].value_counts(),\n",
    "    name = 'Negative',\n",
    "    marker = dict(color='rgba(200,0,0,.7)')\n",
    ")\n",
    "\n",
    "trace2 = go.Bar(\n",
    "    x = sorted(tweets['airline'].unique()),\n",
    "    y = tweets[tweets['airline_sentiment'] == 'neutral'].groupby('airline')['airline_sentiment'].value_counts(),\n",
    "    name = 'Neutral',\n",
    "    marker = dict(color='rgba(150,150,150,.7)')\n",
    ")\n",
    "\n",
    "trace3 = go.Bar(\n",
    "    x = sorted(tweets['airline'].unique()),\n",
    "    y = tweets[tweets['airline_sentiment'] == 'positive'].groupby('airline')['airline_sentiment'].value_counts(),\n",
    "    name = 'Positive',\n",
    "    marker = dict(color='rgba(0,200,0,.7)')\n",
    ")\n",
    "\n",
    "data = [trace1, trace2, trace3]\n",
    "layout = go.Layout(\n",
    "    title = 'Airline Sentiment (Total Tweets)',\n",
    "    barmode='group',\n",
    "    yaxis = dict(title='Number of tweets')\n",
    ")\n",
    "\n",
    "fig = go.Figure(data=data, layout=layout)\n",
    "py.offline.iplot(fig, filename='stacked-bar')"
   ]
  },
  {
   "cell_type": "markdown",
   "metadata": {},
   "source": [
    "<div class=\"alert alert-block alert-warning\">\n",
    "For the above visual, please feel free to toggle the sentiment categories on the right.\n",
    "</div>\n",
    "\n",
    "### Class Imbalance\n",
    "\n",
    "Based on the number of total tweets above, we can see that certain airlines don't have the same presence as others, namely Virgin America, which is a much smaller airline than the others in our dataset. In order to fix this issue, I will be upsampling the data so that all of the airlines will have an equal number of tweets."
   ]
  },
  {
   "cell_type": "code",
   "execution_count": 11,
   "metadata": {},
   "outputs": [
    {
     "data": {
      "text/plain": [
       "airline\n",
       "United            3822\n",
       "US Airways        2913\n",
       "American          2759\n",
       "Southwest         2420\n",
       "Delta             2222\n",
       "Virgin America     504\n",
       "dtype: int64"
      ]
     },
     "execution_count": 11,
     "metadata": {},
     "output_type": "execute_result"
    }
   ],
   "source": [
    "# Count # of tweets for each airline\n",
    "tweets.groupby(['airline']).size().sort_values(ascending = False)"
   ]
  },
  {
   "cell_type": "code",
   "execution_count": 12,
   "metadata": {},
   "outputs": [
    {
     "data": {
      "text/plain": [
       "airline\n",
       "American          3822\n",
       "Delta             3822\n",
       "Southwest         3822\n",
       "US Airways        3822\n",
       "United            3822\n",
       "Virgin America    3822\n",
       "dtype: int64"
      ]
     },
     "execution_count": 12,
     "metadata": {},
     "output_type": "execute_result"
    }
   ],
   "source": [
    "# Create temporary dataframe for all airlines to upsample and concatenate\n",
    "tweets_united = tweets[tweets.airline=='United']\n",
    "sample_size = len(tweets[tweets['airline']=='United'])\n",
    "\n",
    "# Upsample all other airlines\n",
    "tweets_usairways = resample(tweets[tweets.airline=='US Airways'], \n",
    "                            replace=True, n_samples=sample_size)\n",
    "tweets_american = resample(tweets[tweets.airline=='American'], \n",
    "                           replace=True, n_samples=sample_size)\n",
    "tweets_southwest = resample(tweets[tweets.airline=='Southwest'], \n",
    "                            replace=True, n_samples=sample_size)\n",
    "tweets_delta = resample(tweets[tweets.airline=='Delta'], \n",
    "                        replace=True, n_samples=sample_size)\n",
    "tweets_virgin = resample(tweets[tweets.airline=='Virgin America'], \n",
    "                         replace=True, n_samples=sample_size)\n",
    "\n",
    "# Concatenate the individual dataframes\n",
    "tweets = pd.concat([tweets_united, \n",
    "                   tweets_usairways, \n",
    "                   tweets_american, \n",
    "                   tweets_southwest,\n",
    "                   tweets_delta,\n",
    "                   tweets_virgin])\n",
    "\n",
    "tweets = tweets.reset_index(drop=True)\n",
    "\n",
    "# Count # of tweets for each airline to verify\n",
    "tweets.groupby(['airline']).size()"
   ]
  },
  {
   "cell_type": "code",
   "execution_count": 13,
   "metadata": {},
   "outputs": [
    {
     "data": {
      "application/vnd.plotly.v1+json": {
       "data": [
        {
         "marker": {
          "color": "rgba(200,0,0,.7)"
         },
         "name": "Negative",
         "type": "bar",
         "uid": "f396d950-8930-4fd2-b604-be67d095398a",
         "x": [
          "American",
          "Delta",
          "Southwest",
          "US Airways",
          "United",
          "Virgin America"
         ],
         "y": [
          0.7119309262166404,
          0.43092621664050235,
          0.5015698587127159,
          0.76007326007326,
          0.6889063317634746,
          0.34850863422291994
         ]
        },
        {
         "marker": {
          "color": "rgba(150,150,150,.7)"
         },
         "name": "Neutral",
         "type": "bar",
         "uid": "2dde0a3f-9bb7-4cfd-ad80-53bb1e61f0df",
         "x": [
          "American",
          "Delta",
          "Southwest",
          "US Airways",
          "United",
          "Virgin America"
         ],
         "y": [
          0.16248037676609106,
          0.32679225536368395,
          0.28440607012035585,
          0.13971742543171115,
          0.18236525379382523,
          0.347723704866562
         ]
        },
        {
         "marker": {
          "color": "rgba(0,200,0,.7)"
         },
         "name": "Positive",
         "type": "bar",
         "uid": "bac968a9-f862-41c4-8895-1af34ea3cbe7",
         "x": [
          "American",
          "Delta",
          "Southwest",
          "US Airways",
          "United",
          "Virgin America"
         ],
         "y": [
          0.12558869701726844,
          0.2422815279958137,
          0.21402407116692831,
          0.10020931449502878,
          0.12872841444270017,
          0.30376766091051804
         ]
        }
       ],
       "layout": {
        "barmode": "group",
        "title": "Airline Sentiment (Percentage)",
        "yaxis": {
         "title": "% of tweets"
        }
       }
      },
      "text/html": [
       "<div id=\"a8c90650-9ea9-4fca-95da-54a88184ae9d\" style=\"height: 525px; width: 100%;\" class=\"plotly-graph-div\"></div><script type=\"text/javascript\">require([\"plotly\"], function(Plotly) { window.PLOTLYENV=window.PLOTLYENV || {};window.PLOTLYENV.BASE_URL=\"https://plot.ly\";Plotly.newPlot(\"a8c90650-9ea9-4fca-95da-54a88184ae9d\", [{\"marker\": {\"color\": \"rgba(200,0,0,.7)\"}, \"name\": \"Negative\", \"x\": [\"American\", \"Delta\", \"Southwest\", \"US Airways\", \"United\", \"Virgin America\"], \"y\": [0.7119309262166404, 0.43092621664050235, 0.5015698587127159, 0.76007326007326, 0.6889063317634746, 0.34850863422291994], \"type\": \"bar\", \"uid\": \"f396d950-8930-4fd2-b604-be67d095398a\"}, {\"marker\": {\"color\": \"rgba(150,150,150,.7)\"}, \"name\": \"Neutral\", \"x\": [\"American\", \"Delta\", \"Southwest\", \"US Airways\", \"United\", \"Virgin America\"], \"y\": [0.16248037676609106, 0.32679225536368395, 0.28440607012035585, 0.13971742543171115, 0.18236525379382523, 0.347723704866562], \"type\": \"bar\", \"uid\": \"2dde0a3f-9bb7-4cfd-ad80-53bb1e61f0df\"}, {\"marker\": {\"color\": \"rgba(0,200,0,.7)\"}, \"name\": \"Positive\", \"x\": [\"American\", \"Delta\", \"Southwest\", \"US Airways\", \"United\", \"Virgin America\"], \"y\": [0.12558869701726844, 0.2422815279958137, 0.21402407116692831, 0.10020931449502878, 0.12872841444270017, 0.30376766091051804], \"type\": \"bar\", \"uid\": \"bac968a9-f862-41c4-8895-1af34ea3cbe7\"}], {\"barmode\": \"group\", \"title\": \"Airline Sentiment (Percentage)\", \"yaxis\": {\"title\": \"% of tweets\"}}, {\"showLink\": true, \"linkText\": \"Export to plot.ly\"})});</script><script type=\"text/javascript\">window.addEventListener(\"resize\", function(){window._Plotly.Plots.resize(document.getElementById(\"a8c90650-9ea9-4fca-95da-54a88184ae9d\"));});</script>"
      ],
      "text/vnd.plotly.v1+html": [
       "<div id=\"a8c90650-9ea9-4fca-95da-54a88184ae9d\" style=\"height: 525px; width: 100%;\" class=\"plotly-graph-div\"></div><script type=\"text/javascript\">require([\"plotly\"], function(Plotly) { window.PLOTLYENV=window.PLOTLYENV || {};window.PLOTLYENV.BASE_URL=\"https://plot.ly\";Plotly.newPlot(\"a8c90650-9ea9-4fca-95da-54a88184ae9d\", [{\"marker\": {\"color\": \"rgba(200,0,0,.7)\"}, \"name\": \"Negative\", \"x\": [\"American\", \"Delta\", \"Southwest\", \"US Airways\", \"United\", \"Virgin America\"], \"y\": [0.7119309262166404, 0.43092621664050235, 0.5015698587127159, 0.76007326007326, 0.6889063317634746, 0.34850863422291994], \"type\": \"bar\", \"uid\": \"f396d950-8930-4fd2-b604-be67d095398a\"}, {\"marker\": {\"color\": \"rgba(150,150,150,.7)\"}, \"name\": \"Neutral\", \"x\": [\"American\", \"Delta\", \"Southwest\", \"US Airways\", \"United\", \"Virgin America\"], \"y\": [0.16248037676609106, 0.32679225536368395, 0.28440607012035585, 0.13971742543171115, 0.18236525379382523, 0.347723704866562], \"type\": \"bar\", \"uid\": \"2dde0a3f-9bb7-4cfd-ad80-53bb1e61f0df\"}, {\"marker\": {\"color\": \"rgba(0,200,0,.7)\"}, \"name\": \"Positive\", \"x\": [\"American\", \"Delta\", \"Southwest\", \"US Airways\", \"United\", \"Virgin America\"], \"y\": [0.12558869701726844, 0.2422815279958137, 0.21402407116692831, 0.10020931449502878, 0.12872841444270017, 0.30376766091051804], \"type\": \"bar\", \"uid\": \"bac968a9-f862-41c4-8895-1af34ea3cbe7\"}], {\"barmode\": \"group\", \"title\": \"Airline Sentiment (Percentage)\", \"yaxis\": {\"title\": \"% of tweets\"}}, {\"showLink\": true, \"linkText\": \"Export to plot.ly\"})});</script><script type=\"text/javascript\">window.addEventListener(\"resize\", function(){window._Plotly.Plots.resize(document.getElementById(\"a8c90650-9ea9-4fca-95da-54a88184ae9d\"));});</script>"
      ]
     },
     "metadata": {},
     "output_type": "display_data"
    }
   ],
   "source": [
    "# Show distribution of texts\n",
    "\n",
    "trace1 = go.Bar(\n",
    "    x = sorted(tweets['airline'].unique()),\n",
    "    y = (tweets[tweets['airline_sentiment'] == 'negative'].groupby('airline')['airline_sentiment'].value_counts().values) / (tweets['airline'].value_counts().sort_index().values),\n",
    "    name = 'Negative',\n",
    "    marker = dict(color='rgba(200,0,0,.7)')\n",
    ")\n",
    "\n",
    "trace2 = go.Bar(\n",
    "    x = sorted(tweets['airline'].unique()),\n",
    "    y = (tweets[tweets['airline_sentiment'] == 'neutral'].groupby('airline')['airline_sentiment'].value_counts().values) / (tweets['airline'].value_counts().sort_index().values),\n",
    "    name = 'Neutral',\n",
    "    marker = dict(color='rgba(150,150,150,.7)')\n",
    ")\n",
    "\n",
    "trace3 = go.Bar(\n",
    "    x = sorted(tweets['airline'].unique()),\n",
    "    y = (tweets[tweets['airline_sentiment'] == 'positive'].groupby('airline')['airline_sentiment'].value_counts().values) / (tweets['airline'].value_counts().sort_index().values),\n",
    "    name = 'Positive',\n",
    "    marker = dict(color='rgba(0,200,0,.7)')\n",
    ")\n",
    "\n",
    "data = [trace1, trace2, trace3]\n",
    "layout = go.Layout(\n",
    "    title = 'Airline Sentiment (Percentage)',\n",
    "    barmode='group',\n",
    "    yaxis = dict(title='% of tweets')\n",
    ")\n",
    "\n",
    "fig = go.Figure(data=data, layout=layout)\n",
    "py.offline.iplot(fig, filename='stacked-bar')"
   ]
  },
  {
   "cell_type": "markdown",
   "metadata": {},
   "source": [
    "<div class=\"alert alert-block alert-warning\">\n",
    "For the above visual, please feel free to toggle the sentiment categories on the right.\n",
    "</div>\n",
    "\n",
    "## Text Cleaning"
   ]
  },
  {
   "cell_type": "code",
   "execution_count": 14,
   "metadata": {},
   "outputs": [],
   "source": [
    "def text_cleaner(text):\n",
    "    # Visual inspection identifies a form of punctuation spaCy does not\n",
    "    # recognize: the double dash '--'.  Better get rid of it now!\n",
    "    text = re.sub(r'--',' ',text)\n",
    "    text = re.sub(\"[\\[].*?[\\]]\", \"\", text)\n",
    "    text = ' '.join(text.split())\n",
    "    return text"
   ]
  },
  {
   "cell_type": "code",
   "execution_count": 15,
   "metadata": {},
   "outputs": [
    {
     "data": {
      "text/plain": [
       "0                                                                                                                                @united thanks\n",
       "1                                                                                   @united Thanks for taking care of that MR!! Happy customer.\n",
       "2      @united still no refund or word via DM. Please resolve this issue as your Cancelled Flightled flight was useless to my assistant's trip.\n",
       "3    @united Delayed due to lack of crew and now delayed again because there's a long line for deicing... Still need to improve service #united\n",
       "4                                                                      @united thanks we filled it out. How's our luck with this? Is it common?\n",
       "Name: text, dtype: object"
      ]
     },
     "execution_count": 15,
     "metadata": {},
     "output_type": "execute_result"
    }
   ],
   "source": [
    "# Remove non-essential punctuation from the tweets\n",
    "pd.options.display.max_colwidth = 200\n",
    "tweets['text'] = tweets['text'].map(lambda x: text_cleaner(str(x)))\n",
    "tweets['text'].head()"
   ]
  },
  {
   "cell_type": "code",
   "execution_count": 16,
   "metadata": {},
   "outputs": [],
   "source": [
    "# Reduce all text to their lemmas\n",
    "lemmatizer = WordNetLemmatizer()\n",
    "\n",
    "for tweet in tweets['text']:\n",
    "    tweet = lemmatizer.lemmatize(tweet)"
   ]
  },
  {
   "cell_type": "code",
   "execution_count": 17,
   "metadata": {},
   "outputs": [],
   "source": [
    "# Modify values of sentiment to numerical values\n",
    "sentiment = {'negative': -1, 'neutral': 0, 'positive': 1}\n",
    "tweets['airline_sentiment'] = tweets['airline_sentiment'].map(lambda x: sentiment[x])"
   ]
  },
  {
   "cell_type": "code",
   "execution_count": 18,
   "metadata": {},
   "outputs": [
    {
     "data": {
      "image/png": "[encoded data removed]",
      "text/plain": [
       "<Figure size 864x864 with 1 Axes>"
      ]
     },
     "metadata": {
      "needs_background": "light"
     },
     "output_type": "display_data"
    }
   ],
   "source": [
    "# Modify later; \n",
    "# (there are a lot of non-descript filler words like flight)\n",
    "# (Maybe add a wordcloud for positive tweets?)\n",
    "\n",
    "df=tweets[tweets['airline_sentiment']==-1]\n",
    "words = ' '.join(df['text'])\n",
    "cleaned_word = \" \".join([word for word in words.split()\n",
    "                            if 'http' not in word\n",
    "                                and not word.startswith('@')\n",
    "                                and word != 'RT'\n",
    "                            ])\n",
    "\n",
    "wordcloud = WordCloud(stopwords=STOPWORDS,\n",
    "                      background_color='black',\n",
    "                      max_words = 100\n",
    "                     ).generate(cleaned_word)\n",
    "\n",
    "plt.figure(1,figsize=(12, 12))\n",
    "plt.imshow(wordcloud)\n",
    "plt.axis('off')\n",
    "plt.show()"
   ]
  },
  {
   "cell_type": "markdown",
   "metadata": {},
   "source": [
    "# Natural Lanuage Processing"
   ]
  },
  {
   "cell_type": "code",
   "execution_count": 19,
   "metadata": {},
   "outputs": [],
   "source": [
    "X = tweets['text']\n",
    "y = tweets['airline_sentiment']"
   ]
  },
  {
   "cell_type": "code",
   "execution_count": 20,
   "metadata": {},
   "outputs": [],
   "source": [
    "# # Instantiating spaCy\n",
    "# nlp = spacy.load('en')\n",
    "# X_words = []\n",
    "\n",
    "# for row in X:\n",
    "#     # Processing each row for tokens\n",
    "#     row_doc = nlp(row)\n",
    "#     # Calculating length of each sentence\n",
    "#     sent_len = len(row_doc) \n",
    "#     # Initializing counts of different parts of speech\n",
    "#     advs = 0\n",
    "#     verb = 0\n",
    "#     noun = 0\n",
    "#     adj = 0\n",
    "#     for token in row_doc:\n",
    "#         # Identifying each part of speech and adding to counts\n",
    "#         if token.pos_ == 'ADV':\n",
    "#             advs +=1\n",
    "#         elif token.pos_ == 'VERB':\n",
    "#             verb +=1\n",
    "#         elif token.pos_ == 'NOUN':\n",
    "#             noun +=1\n",
    "#         elif token.pos_ == 'ADJ':\n",
    "#             adj +=1\n",
    "#     # Creating a list of all features for each sentence\n",
    "#     X_words.append([row_doc, advs, verb, noun, adj, sent_len])\n",
    "\n",
    "# # Create dataframe with count of adverbs, verbs, nouns, and adjectives\n",
    "# X_count = pd.DataFrame(data=X_words, columns=['BOW', 'ADV', 'VERB', 'NOUN', 'ADJ', 'sent_length'])\n",
    "\n",
    "# # Change token count to token percentage\n",
    "# for column in X_count.columns[1:5]:\n",
    "#     X_count[column] = X_count[column] / X_count['sent_length']\n",
    "\n",
    "# # Normalize X_count\n",
    "# X_counter = normalize(X_count.drop('BOW',axis=1))\n",
    "# X_counter  = pd.DataFrame(data=X_counter)"
   ]
  },
  {
   "cell_type": "code",
   "execution_count": 21,
   "metadata": {},
   "outputs": [],
   "source": [
    "# Parameters for TF-idf vectorizer\n",
    "vectorizer = TfidfVectorizer(max_df=0.5,\n",
    "                             min_df=3, \n",
    "                             max_features=200, \n",
    "                             stop_words='english', \n",
    "                             lowercase=True, \n",
    "                             use_idf=True,\n",
    "                             norm=u'l2',\n",
    "                             smooth_idf=True\n",
    "                            )\n",
    "\n",
    "#Applying the vectorizer\n",
    "X_tfidf=vectorizer.fit_transform(X)\n",
    "\n",
    "#splitting into training and test sets\n",
    "X_train_tfidf, X_test_tfidf, y_train_tfidf, y_test_tfidf = train_test_split(X_tfidf, y, test_size=0.25, random_state=42)\n",
    "\n",
    "#Removes all zeros from the matrix\n",
    "X_train_tfidf_csr = X_train_tfidf.tocsr()\n",
    "\n",
    "#number of paragraphs\n",
    "n = X_train_tfidf_csr.shape[0]\n",
    "\n",
    "#A list of dictionaries, one per paragraph\n",
    "tfidf_bypara = [{} for _ in range(0,n)]\n",
    "\n",
    "#List of features\n",
    "terms = vectorizer.get_feature_names()\n",
    "\n",
    "#for each paragraph, lists the feature words and their tf-idf scores\n",
    "for i, j in zip(*X_train_tfidf_csr.nonzero()):\n",
    "    tfidf_bypara[i][terms[j]] = X_train_tfidf_csr[i, j]\n",
    "\n",
    "# Normalize the dataset    \n",
    "X_norm = normalize(X_train_tfidf)\n",
    "\n",
    "# Convert from tf-idf matrix to dataframe\n",
    "X_normal  = pd.DataFrame(data=X_norm.toarray())"
   ]
  },
  {
   "cell_type": "code",
   "execution_count": 22,
   "metadata": {},
   "outputs": [],
   "source": [
    "## Creating tf-idf matrix\n",
    "# vectorizer = TfidfVectorizer(stop_words='english')\n",
    "synopsis_tfidf = vectorizer.fit_transform(tweets['text'])\n",
    "\n",
    "# Getting the word list.\n",
    "terms = vectorizer.get_feature_names()\n",
    "\n",
    "# Linking words to topics\n",
    "def word_topic(tfidf,solution, wordlist):\n",
    "    \n",
    "    # Loading scores for each word on each topic/component.\n",
    "    words_by_topic=tfidf.T * solution\n",
    "\n",
    "    # Linking the loadings to the words in an easy-to-read way.\n",
    "    components=pd.DataFrame(words_by_topic,index=wordlist)\n",
    "    \n",
    "    return components\n",
    "\n",
    "# Extracts the top N words and their loadings for each topic.\n",
    "def top_words(components, n_top_words):\n",
    "    n_topics = range(components.shape[1])\n",
    "    index= np.repeat(n_topics, n_top_words, axis=0)\n",
    "    topwords=pd.Series(index=index)\n",
    "    for column in range(components.shape[1]):\n",
    "        # Sort the column so that highest loadings are at the top.\n",
    "        sortedwords=components.iloc[:,column].sort_values(ascending=False)\n",
    "        # Choose the N highest loadings.\n",
    "        chosen=sortedwords[:n_top_words]\n",
    "        # Combine loading and index into a string.\n",
    "        chosenlist=chosen.index +\" \"+round(chosen,2).map(str) \n",
    "        topwords.loc[column]=chosenlist\n",
    "    return(topwords)\n",
    "\n",
    "# Number of words to look at for each topic.\n",
    "n_top_words = 200\n",
    "\n",
    "# Number of possible outcomes (3 = positive, neutral, negative)\n",
    "ntopics = tweets['airline_sentiment'].nunique()"
   ]
  },
  {
   "cell_type": "code",
   "execution_count": 23,
   "metadata": {},
   "outputs": [],
   "source": [
    "# Parameters for LSA\n",
    "svd= TruncatedSVD(ntopics)\n",
    "lsa = make_pipeline(svd, Normalizer(copy=False))\n",
    "\n",
    "# Time and run LSA model\n",
    "start_time = timeit.default_timer()\n",
    "synopsis_lsa = lsa.fit_transform(synopsis_tfidf)\n",
    "elapsed_lsa = timeit.default_timer() - start_time\n",
    "\n",
    "# Extract most common words for LSA\n",
    "components_lsa = word_topic(synopsis_tfidf, synopsis_lsa, terms)\n",
    "topwords=pd.DataFrame()\n",
    "topwords['LSA']=top_words(components_lsa, n_top_words)"
   ]
  },
  {
   "cell_type": "code",
   "execution_count": 24,
   "metadata": {},
   "outputs": [],
   "source": [
    "# # Paramters for LDA\n",
    "# lda = LDA(n_topics=ntopics, \n",
    "#           doc_topic_prior=None, # Prior = 1/n_documents\n",
    "#           topic_word_prior=1/ntopics,\n",
    "#           learning_decay=0.7, # Convergence rate.\n",
    "#           learning_offset=10.0, # Causes earlier iterations to have less influence on the learning\n",
    "#           max_iter=10, # when to stop even if the model is not converging (to prevent running forever)\n",
    "#           evaluate_every=-1, # Do not evaluate perplexity, as it slows training time.\n",
    "#           mean_change_tol=0.001, # Stop updating the document topic distribution in the E-step when mean change is < tol\n",
    "#           max_doc_update_iter=100, # When to stop updating the document topic distribution in the E-step even if tol is not reached\n",
    "#           n_jobs=-1, # Use all available CPUs to speed up processing time.\n",
    "#           verbose=0, # amount of output to give while iterating\n",
    "#           random_state=0\n",
    "#          )\n",
    "\n",
    "# # Time and run LDA model\n",
    "# start_time = timeit.default_timer()\n",
    "# synopsis_lda = lda.fit_transform(synopsis_tfidf)\n",
    "# elapsed_lda = timeit.default_timer() - start_time\n",
    "\n",
    "# # Extract most common words for LDA\n",
    "# components_lda = word_topic(synopsis_tfidf, synopsis_lda, terms)\n",
    "# topwords['LDA']=top_words(components_lda, n_top_words)"
   ]
  },
  {
   "cell_type": "code",
   "execution_count": 25,
   "metadata": {},
   "outputs": [],
   "source": [
    "# Parameters for NNMF\n",
    "nmf = NMF(alpha=0.0, \n",
    "          init='nndsvdar', # how starting value are calculated\n",
    "          l1_ratio=0.0, # Sets whether regularization is L2 (0), L1 (1), or a combination (values between 0 and 1)\n",
    "          max_iter=200, # when to stop even if the model is not converging (to prevent running forever)\n",
    "          n_components=ntopics, \n",
    "          random_state=0, \n",
    "          solver='cd', # Use Coordinate Descent to solve\n",
    "          tol=0.0001, # model will stop if tfidf-WH <= tol\n",
    "          verbose=0 # amount of output to give while iterating\n",
    "         )\n",
    "\n",
    "# Time and run NNMF model\n",
    "start_time = timeit.default_timer()\n",
    "synopsis_nmf = nmf.fit_transform(synopsis_tfidf)\n",
    "elapsed_nmf = timeit.default_timer() - start_time\n",
    "\n",
    "# Extract most common words for NNMF\n",
    "components_nmf = word_topic(synopsis_tfidf, synopsis_nmf, terms)\n",
    "topwords['NNMF']=top_words(components_nmf, n_top_words)"
   ]
  },
  {
   "cell_type": "code",
   "execution_count": 26,
   "metadata": {},
   "outputs": [
    {
     "data": {
      "text/html": [
       "<div>\n",
       "<style scoped>\n",
       "    .dataframe tbody tr th:only-of-type {\n",
       "        vertical-align: middle;\n",
       "    }\n",
       "\n",
       "    .dataframe tbody tr th {\n",
       "        vertical-align: top;\n",
       "    }\n",
       "\n",
       "    .dataframe thead th {\n",
       "        text-align: right;\n",
       "    }\n",
       "</style>\n",
       "<table border=\"1\" class=\"dataframe\">\n",
       "  <thead>\n",
       "    <tr style=\"text-align: right;\">\n",
       "      <th></th>\n",
       "      <th>LSA</th>\n",
       "      <th>NNMF</th>\n",
       "    </tr>\n",
       "  </thead>\n",
       "  <tbody>\n",
       "    <tr>\n",
       "      <th>0</th>\n",
       "      <td>flight 1261.24</td>\n",
       "      <td>flight 69.99</td>\n",
       "    </tr>\n",
       "    <tr>\n",
       "      <th>0</th>\n",
       "      <td>southwestair 1193.23</td>\n",
       "      <td>southwestair 60.85</td>\n",
       "    </tr>\n",
       "    <tr>\n",
       "      <th>0</th>\n",
       "      <td>americanair 1085.61</td>\n",
       "      <td>united 58.02</td>\n",
       "    </tr>\n",
       "    <tr>\n",
       "      <th>0</th>\n",
       "      <td>usairways 1062.86</td>\n",
       "      <td>americanair 49.7</td>\n",
       "    </tr>\n",
       "    <tr>\n",
       "      <th>0</th>\n",
       "      <td>united 1003.72</td>\n",
       "      <td>usairways 45.06</td>\n",
       "    </tr>\n",
       "    <tr>\n",
       "      <th>0</th>\n",
       "      <td>jetblue 894.8</td>\n",
       "      <td>cancelled 24.34</td>\n",
       "    </tr>\n",
       "    <tr>\n",
       "      <th>0</th>\n",
       "      <td>virginamerica 714.64</td>\n",
       "      <td>thanks 23.0</td>\n",
       "    </tr>\n",
       "    <tr>\n",
       "      <th>0</th>\n",
       "      <td>http 679.38</td>\n",
       "      <td>just 17.33</td>\n",
       "    </tr>\n",
       "    <tr>\n",
       "      <th>0</th>\n",
       "      <td>thanks 573.36</td>\n",
       "      <td>help 17.0</td>\n",
       "    </tr>\n",
       "    <tr>\n",
       "      <th>0</th>\n",
       "      <td>just 470.92</td>\n",
       "      <td>service 16.53</td>\n",
       "    </tr>\n",
       "    <tr>\n",
       "      <th>0</th>\n",
       "      <td>cancelled 433.02</td>\n",
       "      <td>thank 14.71</td>\n",
       "    </tr>\n",
       "    <tr>\n",
       "      <th>0</th>\n",
       "      <td>help 420.34</td>\n",
       "      <td>flightled 14.49</td>\n",
       "    </tr>\n",
       "    <tr>\n",
       "      <th>0</th>\n",
       "      <td>service 402.92</td>\n",
       "      <td>http 14.47</td>\n",
       "    </tr>\n",
       "    <tr>\n",
       "      <th>0</th>\n",
       "      <td>thank 395.41</td>\n",
       "      <td>time 14.3</td>\n",
       "    </tr>\n",
       "    <tr>\n",
       "      <th>0</th>\n",
       "      <td>time 355.93</td>\n",
       "      <td>customer 13.69</td>\n",
       "    </tr>\n",
       "    <tr>\n",
       "      <th>0</th>\n",
       "      <td>flights 351.12</td>\n",
       "      <td>flights 13.32</td>\n",
       "    </tr>\n",
       "    <tr>\n",
       "      <th>0</th>\n",
       "      <td>customer 336.14</td>\n",
       "      <td>hours 13.03</td>\n",
       "    </tr>\n",
       "    <tr>\n",
       "      <th>0</th>\n",
       "      <td>plane 300.16</td>\n",
       "      <td>hold 12.72</td>\n",
       "    </tr>\n",
       "    <tr>\n",
       "      <th>0</th>\n",
       "      <td>need 299.94</td>\n",
       "      <td>delayed 11.57</td>\n",
       "    </tr>\n",
       "    <tr>\n",
       "      <th>0</th>\n",
       "      <td>hold 293.9</td>\n",
       "      <td>need 11.31</td>\n",
       "    </tr>\n",
       "    <tr>\n",
       "      <th>0</th>\n",
       "      <td>hours 293.81</td>\n",
       "      <td>plane 10.65</td>\n",
       "    </tr>\n",
       "    <tr>\n",
       "      <th>0</th>\n",
       "      <td>amp 290.23</td>\n",
       "      <td>jetblue 10.55</td>\n",
       "    </tr>\n",
       "    <tr>\n",
       "      <th>0</th>\n",
       "      <td>delayed 258.89</td>\n",
       "      <td>amp 10.23</td>\n",
       "    </tr>\n",
       "    <tr>\n",
       "      <th>0</th>\n",
       "      <td>like 254.98</td>\n",
       "      <td>virginamerica 9.94</td>\n",
       "    </tr>\n",
       "    <tr>\n",
       "      <th>0</th>\n",
       "      <td>flightled 245.58</td>\n",
       "      <td>late 9.63</td>\n",
       "    </tr>\n",
       "    <tr>\n",
       "      <th>0</th>\n",
       "      <td>ve 244.01</td>\n",
       "      <td>ve 9.38</td>\n",
       "    </tr>\n",
       "    <tr>\n",
       "      <th>0</th>\n",
       "      <td>today 236.45</td>\n",
       "      <td>hour 8.98</td>\n",
       "    </tr>\n",
       "    <tr>\n",
       "      <th>0</th>\n",
       "      <td>got 233.86</td>\n",
       "      <td>today 8.69</td>\n",
       "    </tr>\n",
       "    <tr>\n",
       "      <th>0</th>\n",
       "      <td>don 233.56</td>\n",
       "      <td>gate 8.69</td>\n",
       "    </tr>\n",
       "    <tr>\n",
       "      <th>0</th>\n",
       "      <td>way 232.77</td>\n",
       "      <td>got 8.6</td>\n",
       "    </tr>\n",
       "    <tr>\n",
       "      <th>...</th>\n",
       "      <td>...</td>\n",
       "      <td>...</td>\n",
       "    </tr>\n",
       "    <tr>\n",
       "      <th>2</th>\n",
       "      <td>bags -45.79</td>\n",
       "      <td>rebook 0.63</td>\n",
       "    </tr>\n",
       "    <tr>\n",
       "      <th>2</th>\n",
       "      <td>weather -46.68</td>\n",
       "      <td>long 0.63</td>\n",
       "    </tr>\n",
       "    <tr>\n",
       "      <th>2</th>\n",
       "      <td>yes -48.65</td>\n",
       "      <td>pay 0.62</td>\n",
       "    </tr>\n",
       "    <tr>\n",
       "      <th>2</th>\n",
       "      <td>flightled -50.65</td>\n",
       "      <td>worst 0.61</td>\n",
       "    </tr>\n",
       "    <tr>\n",
       "      <th>2</th>\n",
       "      <td>agent -51.2</td>\n",
       "      <td>stuck 0.61</td>\n",
       "    </tr>\n",
       "    <tr>\n",
       "      <th>2</th>\n",
       "      <td>ve -51.25</td>\n",
       "      <td>tickets 0.6</td>\n",
       "    </tr>\n",
       "    <tr>\n",
       "      <th>2</th>\n",
       "      <td>make -52.08</td>\n",
       "      <td>hope 0.6</td>\n",
       "    </tr>\n",
       "    <tr>\n",
       "      <th>2</th>\n",
       "      <td>waiting -53.49</td>\n",
       "      <td>bags 0.59</td>\n",
       "    </tr>\n",
       "    <tr>\n",
       "      <th>2</th>\n",
       "      <td>airport -55.85</td>\n",
       "      <td>line 0.57</td>\n",
       "    </tr>\n",
       "    <tr>\n",
       "      <th>2</th>\n",
       "      <td>delay -56.82</td>\n",
       "      <td>care 0.57</td>\n",
       "    </tr>\n",
       "    <tr>\n",
       "      <th>2</th>\n",
       "      <td>phone -57.75</td>\n",
       "      <td>having 0.57</td>\n",
       "    </tr>\n",
       "    <tr>\n",
       "      <th>2</th>\n",
       "      <td>thank -58.47</td>\n",
       "      <td>flighted 0.52</td>\n",
       "    </tr>\n",
       "    <tr>\n",
       "      <th>2</th>\n",
       "      <td>late -60.15</td>\n",
       "      <td>tell 0.47</td>\n",
       "    </tr>\n",
       "    <tr>\n",
       "      <th>2</th>\n",
       "      <td>hour -64.59</td>\n",
       "      <td>min 0.46</td>\n",
       "    </tr>\n",
       "    <tr>\n",
       "      <th>2</th>\n",
       "      <td>bag -68.75</td>\n",
       "      <td>credit 0.44</td>\n",
       "    </tr>\n",
       "    <tr>\n",
       "      <th>2</th>\n",
       "      <td>hold -77.28</td>\n",
       "      <td>staff 0.42</td>\n",
       "    </tr>\n",
       "    <tr>\n",
       "      <th>2</th>\n",
       "      <td>time -78.95</td>\n",
       "      <td>sitting 0.39</td>\n",
       "    </tr>\n",
       "    <tr>\n",
       "      <th>2</th>\n",
       "      <td>plane -81.83</td>\n",
       "      <td>agent 0.37</td>\n",
       "    </tr>\n",
       "    <tr>\n",
       "      <th>2</th>\n",
       "      <td>thanks -83.36</td>\n",
       "      <td>issue 0.36</td>\n",
       "    </tr>\n",
       "    <tr>\n",
       "      <th>2</th>\n",
       "      <td>delayed -84.24</td>\n",
       "      <td>refund 0.34</td>\n",
       "    </tr>\n",
       "    <tr>\n",
       "      <th>2</th>\n",
       "      <td>cancelled -88.16</td>\n",
       "      <td>hrs 0.34</td>\n",
       "    </tr>\n",
       "    <tr>\n",
       "      <th>2</th>\n",
       "      <td>customer -93.59</td>\n",
       "      <td>delays 0.33</td>\n",
       "    </tr>\n",
       "    <tr>\n",
       "      <th>2</th>\n",
       "      <td>gate -95.2</td>\n",
       "      <td>aa 0.3</td>\n",
       "    </tr>\n",
       "    <tr>\n",
       "      <th>2</th>\n",
       "      <td>hours -99.75</td>\n",
       "      <td>miles 0.17</td>\n",
       "    </tr>\n",
       "    <tr>\n",
       "      <th>2</th>\n",
       "      <td>service -122.43</td>\n",
       "      <td>20 0.15</td>\n",
       "    </tr>\n",
       "    <tr>\n",
       "      <th>2</th>\n",
       "      <td>jetblue -231.91</td>\n",
       "      <td>agents 0.12</td>\n",
       "    </tr>\n",
       "    <tr>\n",
       "      <th>2</th>\n",
       "      <td>flight -233.12</td>\n",
       "      <td>rude 0.12</td>\n",
       "    </tr>\n",
       "    <tr>\n",
       "      <th>2</th>\n",
       "      <td>usairways -442.81</td>\n",
       "      <td>connection 0.09</td>\n",
       "    </tr>\n",
       "    <tr>\n",
       "      <th>2</th>\n",
       "      <td>americanair -481.65</td>\n",
       "      <td>flightr 0.09</td>\n",
       "    </tr>\n",
       "    <tr>\n",
       "      <th>2</th>\n",
       "      <td>united -751.08</td>\n",
       "      <td>rebooked 0.07</td>\n",
       "    </tr>\n",
       "  </tbody>\n",
       "</table>\n",
       "<p>600 rows × 2 columns</p>\n",
       "</div>"
      ],
      "text/plain": [
       "                     LSA                NNMF\n",
       "0         flight 1261.24        flight 69.99\n",
       "0   southwestair 1193.23  southwestair 60.85\n",
       "0    americanair 1085.61        united 58.02\n",
       "0      usairways 1062.86    americanair 49.7\n",
       "0         united 1003.72     usairways 45.06\n",
       "0          jetblue 894.8     cancelled 24.34\n",
       "0   virginamerica 714.64         thanks 23.0\n",
       "0            http 679.38          just 17.33\n",
       "0          thanks 573.36           help 17.0\n",
       "0            just 470.92       service 16.53\n",
       "0       cancelled 433.02         thank 14.71\n",
       "0            help 420.34     flightled 14.49\n",
       "0         service 402.92          http 14.47\n",
       "0           thank 395.41           time 14.3\n",
       "0            time 355.93      customer 13.69\n",
       "0         flights 351.12       flights 13.32\n",
       "0        customer 336.14         hours 13.03\n",
       "0           plane 300.16          hold 12.72\n",
       "0            need 299.94       delayed 11.57\n",
       "0             hold 293.9          need 11.31\n",
       "0           hours 293.81         plane 10.65\n",
       "0             amp 290.23       jetblue 10.55\n",
       "0         delayed 258.89           amp 10.23\n",
       "0            like 254.98  virginamerica 9.94\n",
       "0       flightled 245.58           late 9.63\n",
       "0              ve 244.01             ve 9.38\n",
       "0           today 236.45           hour 8.98\n",
       "0             got 233.86          today 8.69\n",
       "0             don 233.56           gate 8.69\n",
       "0             way 232.77             got 8.6\n",
       "..                   ...                 ...\n",
       "2            bags -45.79         rebook 0.63\n",
       "2         weather -46.68           long 0.63\n",
       "2             yes -48.65            pay 0.62\n",
       "2       flightled -50.65          worst 0.61\n",
       "2            agent -51.2          stuck 0.61\n",
       "2              ve -51.25         tickets 0.6\n",
       "2            make -52.08            hope 0.6\n",
       "2         waiting -53.49           bags 0.59\n",
       "2         airport -55.85           line 0.57\n",
       "2           delay -56.82           care 0.57\n",
       "2           phone -57.75         having 0.57\n",
       "2           thank -58.47       flighted 0.52\n",
       "2            late -60.15           tell 0.47\n",
       "2            hour -64.59            min 0.46\n",
       "2             bag -68.75         credit 0.44\n",
       "2            hold -77.28          staff 0.42\n",
       "2            time -78.95        sitting 0.39\n",
       "2           plane -81.83          agent 0.37\n",
       "2          thanks -83.36          issue 0.36\n",
       "2         delayed -84.24         refund 0.34\n",
       "2       cancelled -88.16            hrs 0.34\n",
       "2        customer -93.59         delays 0.33\n",
       "2             gate -95.2              aa 0.3\n",
       "2           hours -99.75          miles 0.17\n",
       "2        service -122.43             20 0.15\n",
       "2        jetblue -231.91         agents 0.12\n",
       "2         flight -233.12           rude 0.12\n",
       "2      usairways -442.81     connection 0.09\n",
       "2    americanair -481.65        flightr 0.09\n",
       "2         united -751.08       rebooked 0.07\n",
       "\n",
       "[600 rows x 2 columns]"
      ]
     },
     "execution_count": 26,
     "metadata": {},
     "output_type": "execute_result"
    }
   ],
   "source": [
    "# View top words identified by LSA, LDA, and NNMF\n",
    "topwords"
   ]
  },
  {
   "cell_type": "code",
   "execution_count": 27,
   "metadata": {},
   "outputs": [],
   "source": [
    "# # Create keyword set with top words identified by LSA\n",
    "# keywords = set(topwords['LSA'].str.split(' ', 0).str[0])\n",
    "\n",
    "# # New dataframe with just the text and query\n",
    "# sentences = tweets[['text', 'airline_sentiment']]"
   ]
  },
  {
   "cell_type": "markdown",
   "metadata": {},
   "source": [
    "## Clustering"
   ]
  },
  {
   "cell_type": "code",
   "execution_count": 28,
   "metadata": {},
   "outputs": [
    {
     "data": {
      "text/html": [
       "<div>\n",
       "<style scoped>\n",
       "    .dataframe tbody tr th:only-of-type {\n",
       "        vertical-align: middle;\n",
       "    }\n",
       "\n",
       "    .dataframe tbody tr th {\n",
       "        vertical-align: top;\n",
       "    }\n",
       "\n",
       "    .dataframe thead th {\n",
       "        text-align: right;\n",
       "    }\n",
       "</style>\n",
       "<table border=\"1\" class=\"dataframe\">\n",
       "  <thead>\n",
       "    <tr style=\"text-align: right;\">\n",
       "      <th></th>\n",
       "      <th>0</th>\n",
       "      <th>1</th>\n",
       "      <th>2</th>\n",
       "      <th>3</th>\n",
       "      <th>4</th>\n",
       "      <th>5</th>\n",
       "      <th>6</th>\n",
       "      <th>7</th>\n",
       "      <th>8</th>\n",
       "      <th>9</th>\n",
       "      <th>...</th>\n",
       "      <th>190</th>\n",
       "      <th>191</th>\n",
       "      <th>192</th>\n",
       "      <th>193</th>\n",
       "      <th>194</th>\n",
       "      <th>195</th>\n",
       "      <th>196</th>\n",
       "      <th>197</th>\n",
       "      <th>198</th>\n",
       "      <th>199</th>\n",
       "    </tr>\n",
       "  </thead>\n",
       "  <tbody>\n",
       "    <tr>\n",
       "      <th>0</th>\n",
       "      <td>0.000000</td>\n",
       "      <td>0.0</td>\n",
       "      <td>0.0</td>\n",
       "      <td>0.0</td>\n",
       "      <td>0.0</td>\n",
       "      <td>0.0</td>\n",
       "      <td>0.0</td>\n",
       "      <td>0.0</td>\n",
       "      <td>0.0</td>\n",
       "      <td>0.0</td>\n",
       "      <td>...</td>\n",
       "      <td>0.0</td>\n",
       "      <td>0.0</td>\n",
       "      <td>0.0</td>\n",
       "      <td>0.0</td>\n",
       "      <td>0.0</td>\n",
       "      <td>0.0</td>\n",
       "      <td>0.0</td>\n",
       "      <td>0.0</td>\n",
       "      <td>0.0</td>\n",
       "      <td>0.0</td>\n",
       "    </tr>\n",
       "    <tr>\n",
       "      <th>1</th>\n",
       "      <td>0.444439</td>\n",
       "      <td>0.0</td>\n",
       "      <td>0.0</td>\n",
       "      <td>0.0</td>\n",
       "      <td>0.0</td>\n",
       "      <td>0.0</td>\n",
       "      <td>0.0</td>\n",
       "      <td>0.0</td>\n",
       "      <td>0.0</td>\n",
       "      <td>0.0</td>\n",
       "      <td>...</td>\n",
       "      <td>0.0</td>\n",
       "      <td>0.0</td>\n",
       "      <td>0.0</td>\n",
       "      <td>0.0</td>\n",
       "      <td>0.0</td>\n",
       "      <td>0.0</td>\n",
       "      <td>0.0</td>\n",
       "      <td>0.0</td>\n",
       "      <td>0.0</td>\n",
       "      <td>0.0</td>\n",
       "    </tr>\n",
       "    <tr>\n",
       "      <th>2</th>\n",
       "      <td>0.000000</td>\n",
       "      <td>0.0</td>\n",
       "      <td>0.0</td>\n",
       "      <td>0.0</td>\n",
       "      <td>0.0</td>\n",
       "      <td>0.0</td>\n",
       "      <td>0.0</td>\n",
       "      <td>0.0</td>\n",
       "      <td>0.0</td>\n",
       "      <td>0.0</td>\n",
       "      <td>...</td>\n",
       "      <td>0.0</td>\n",
       "      <td>0.0</td>\n",
       "      <td>0.0</td>\n",
       "      <td>0.0</td>\n",
       "      <td>0.0</td>\n",
       "      <td>0.0</td>\n",
       "      <td>0.0</td>\n",
       "      <td>0.0</td>\n",
       "      <td>0.0</td>\n",
       "      <td>0.0</td>\n",
       "    </tr>\n",
       "    <tr>\n",
       "      <th>3</th>\n",
       "      <td>0.000000</td>\n",
       "      <td>0.0</td>\n",
       "      <td>0.0</td>\n",
       "      <td>0.0</td>\n",
       "      <td>0.0</td>\n",
       "      <td>0.0</td>\n",
       "      <td>0.0</td>\n",
       "      <td>0.0</td>\n",
       "      <td>0.0</td>\n",
       "      <td>0.0</td>\n",
       "      <td>...</td>\n",
       "      <td>0.0</td>\n",
       "      <td>0.0</td>\n",
       "      <td>0.0</td>\n",
       "      <td>0.0</td>\n",
       "      <td>0.0</td>\n",
       "      <td>0.0</td>\n",
       "      <td>0.0</td>\n",
       "      <td>0.0</td>\n",
       "      <td>0.0</td>\n",
       "      <td>0.0</td>\n",
       "    </tr>\n",
       "    <tr>\n",
       "      <th>4</th>\n",
       "      <td>0.000000</td>\n",
       "      <td>0.0</td>\n",
       "      <td>0.0</td>\n",
       "      <td>0.0</td>\n",
       "      <td>0.0</td>\n",
       "      <td>0.0</td>\n",
       "      <td>0.0</td>\n",
       "      <td>0.0</td>\n",
       "      <td>0.0</td>\n",
       "      <td>0.0</td>\n",
       "      <td>...</td>\n",
       "      <td>0.0</td>\n",
       "      <td>0.0</td>\n",
       "      <td>0.0</td>\n",
       "      <td>0.0</td>\n",
       "      <td>0.0</td>\n",
       "      <td>0.0</td>\n",
       "      <td>0.0</td>\n",
       "      <td>0.0</td>\n",
       "      <td>0.0</td>\n",
       "      <td>0.0</td>\n",
       "    </tr>\n",
       "  </tbody>\n",
       "</table>\n",
       "<p>5 rows × 200 columns</p>\n",
       "</div>"
      ],
      "text/plain": [
       "        0    1    2    3    4    5    6    7    8    9   ...   190  191  192  \\\n",
       "0  0.000000  0.0  0.0  0.0  0.0  0.0  0.0  0.0  0.0  0.0 ...   0.0  0.0  0.0   \n",
       "1  0.444439  0.0  0.0  0.0  0.0  0.0  0.0  0.0  0.0  0.0 ...   0.0  0.0  0.0   \n",
       "2  0.000000  0.0  0.0  0.0  0.0  0.0  0.0  0.0  0.0  0.0 ...   0.0  0.0  0.0   \n",
       "3  0.000000  0.0  0.0  0.0  0.0  0.0  0.0  0.0  0.0  0.0 ...   0.0  0.0  0.0   \n",
       "4  0.000000  0.0  0.0  0.0  0.0  0.0  0.0  0.0  0.0  0.0 ...   0.0  0.0  0.0   \n",
       "\n",
       "   193  194  195  196  197  198  199  \n",
       "0  0.0  0.0  0.0  0.0  0.0  0.0  0.0  \n",
       "1  0.0  0.0  0.0  0.0  0.0  0.0  0.0  \n",
       "2  0.0  0.0  0.0  0.0  0.0  0.0  0.0  \n",
       "3  0.0  0.0  0.0  0.0  0.0  0.0  0.0  \n",
       "4  0.0  0.0  0.0  0.0  0.0  0.0  0.0  \n",
       "\n",
       "[5 rows x 200 columns]"
      ]
     },
     "execution_count": 28,
     "metadata": {},
     "output_type": "execute_result"
    }
   ],
   "source": [
    "# Testing the model\n",
    "X_train_tfidf = X_normal\n",
    "\n",
    "# Review the data that we are placing into our models\n",
    "X_train_tfidf.head()"
   ]
  },
  {
   "cell_type": "code",
   "execution_count": 29,
   "metadata": {},
   "outputs": [
    {
     "data": {
      "image/png": "[encoded data removed]",
      "text/plain": [
       "<Figure size 720x360 with 1 Axes>"
      ]
     },
     "metadata": {
      "needs_background": "light"
     },
     "output_type": "display_data"
    }
   ],
   "source": [
    "# Size of graph\n",
    "plt.rcParams['figure.figsize'] = [10,5]\n",
    "\n",
    "# k means determine k\n",
    "distortions = []\n",
    "K = range(1,15)\n",
    "for k in K:\n",
    "    kmeanModel = KMeans(n_clusters=k).fit(X_train_tfidf)\n",
    "    kmeanModel.fit(X_train_tfidf)\n",
    "    distortions.append(sum(np.min(cdist(X_train_tfidf, kmeanModel.cluster_centers_, 'euclidean'), axis=1)) / X_train_tfidf.shape[0])\n",
    "\n",
    "# Plot the elbow\n",
    "plt.plot(K, distortions, 'bx-')\n",
    "plt.xlabel('k')\n",
    "plt.ylabel('Distortion')\n",
    "plt.title('The Elbow Method showing the optimal k')\n",
    "plt.show()"
   ]
  },
  {
   "cell_type": "code",
   "execution_count": 30,
   "metadata": {},
   "outputs": [
    {
     "data": {
      "text/html": [
       "<div>\n",
       "<style scoped>\n",
       "    .dataframe tbody tr th:only-of-type {\n",
       "        vertical-align: middle;\n",
       "    }\n",
       "\n",
       "    .dataframe tbody tr th {\n",
       "        vertical-align: top;\n",
       "    }\n",
       "\n",
       "    .dataframe thead th {\n",
       "        text-align: right;\n",
       "    }\n",
       "</style>\n",
       "<table border=\"1\" class=\"dataframe\">\n",
       "  <thead>\n",
       "    <tr style=\"text-align: right;\">\n",
       "      <th>col_0</th>\n",
       "      <th>0</th>\n",
       "      <th>1</th>\n",
       "      <th>2</th>\n",
       "      <th>3</th>\n",
       "      <th>4</th>\n",
       "      <th>5</th>\n",
       "    </tr>\n",
       "    <tr>\n",
       "      <th>airline_sentiment</th>\n",
       "      <th></th>\n",
       "      <th></th>\n",
       "      <th></th>\n",
       "      <th></th>\n",
       "      <th></th>\n",
       "      <th></th>\n",
       "    </tr>\n",
       "  </thead>\n",
       "  <tbody>\n",
       "    <tr>\n",
       "      <th>-1</th>\n",
       "      <td>1453</td>\n",
       "      <td>991</td>\n",
       "      <td>1198</td>\n",
       "      <td>2014</td>\n",
       "      <td>1975</td>\n",
       "      <td>2243</td>\n",
       "    </tr>\n",
       "    <tr>\n",
       "      <th>0</th>\n",
       "      <td>800</td>\n",
       "      <td>1020</td>\n",
       "      <td>939</td>\n",
       "      <td>508</td>\n",
       "      <td>447</td>\n",
       "      <td>397</td>\n",
       "    </tr>\n",
       "    <tr>\n",
       "      <th>1</th>\n",
       "      <td>627</td>\n",
       "      <td>882</td>\n",
       "      <td>695</td>\n",
       "      <td>368</td>\n",
       "      <td>354</td>\n",
       "      <td>288</td>\n",
       "    </tr>\n",
       "  </tbody>\n",
       "</table>\n",
       "</div>"
      ],
      "text/plain": [
       "col_0                 0     1     2     3     4     5\n",
       "airline_sentiment                                    \n",
       "-1                 1453   991  1198  2014  1975  2243\n",
       " 0                  800  1020   939   508   447   397\n",
       " 1                  627   882   695   368   354   288"
      ]
     },
     "execution_count": 30,
     "metadata": {},
     "output_type": "execute_result"
    }
   ],
   "source": [
    "# Calulate predicted values\n",
    "kmeans = KMeans(n_clusters=6, init='k-means++', random_state=42, n_init=20)\n",
    "y_pred = kmeans.fit_predict(X_train_tfidf)\n",
    "\n",
    "pd.crosstab(y_train_tfidf, y_pred)"
   ]
  },
  {
   "cell_type": "code",
   "execution_count": 31,
   "metadata": {},
   "outputs": [
    {
     "name": "stdout",
     "output_type": "stream",
     "text": [
      "Adjusted Rand Score: 0.02853604\n",
      "Silhouette Score: 0.07088227\n"
     ]
    }
   ],
   "source": [
    "from sklearn.metrics import adjusted_rand_score\n",
    "from sklearn.metrics import silhouette_score\n",
    "\n",
    "print('Adjusted Rand Score: {:0.7}'.format(adjusted_rand_score(y_train_tfidf, y_pred)))\n",
    "print('Silhouette Score: {:0.7}'.format(silhouette_score(X_train_tfidf, y_pred, sample_size=60000, metric='euclidean')))"
   ]
  },
  {
   "cell_type": "markdown",
   "metadata": {},
   "source": [
    "# Modelling Phase\n",
    "\n",
    "So, the tweets have been parsed and prepared for our models. We're trying to determine if it's possible to predict sentiment (a binary variable) so that means that we will require some classification models. As for which models to test, we will be using \n",
    "* Logistic Regression (a fast and simple model)\n",
    "* Random Forest Ensemble (a powerful and scaleable model)\n",
    "* Gradient Boosting Ensemble (a powerful, iterable model)\n",
    "\n",
    "These three models differ fundamentally in how they operate, and range from least to most complex, meaning that logistic regression will almost always take the least amount of time, but gradient boosting will likely be the most accurate. "
   ]
  },
  {
   "cell_type": "code",
   "execution_count": 32,
   "metadata": {},
   "outputs": [],
   "source": [
    "# Create dataframe to track runtime and scores\n",
    "models = ['Logistic regression' , 'Random forest', 'Gradient Boosting', 'Neural Networks']\n",
    "runtime = []\n",
    "train_score = []\n",
    "test_score = []"
   ]
  },
  {
   "cell_type": "code",
   "execution_count": 33,
   "metadata": {},
   "outputs": [],
   "source": [
    "def run_model(model):\n",
    "    \n",
    "    # Train the model\n",
    "    train_set = cross_val_score(model, X_train_tfidf, y_train_tfidf, cv=5, n_jobs=-1)\n",
    "    \n",
    "    # Test the model\n",
    "    start_time = timeit.default_timer()\n",
    "    test_set = cross_val_score(model, X_test_tfidf, y_test_tfidf, cv=5, n_jobs=-1)\n",
    "    elapsed_time = timeit.default_timer() - start_time\n",
    "    \n",
    "    # Append the score and runtime to our dataframe\n",
    "    train_score.append(train_set.mean())\n",
    "    test_score.append(test_set.mean())\n",
    "    runtime.append(elapsed_time)\n",
    "    \n",
    "    # Fit the model to the data\n",
    "    model.fit(X_train_tfidf, y_train_tfidf)\n",
    "    \n",
    "    # Store the predicted values in a dataframe\n",
    "    y_pred = model.predict(X_test_tfidf)\n",
    "    \n",
    "    # Print scores and runtime\n",
    "    print(str(model), '\\n\\nTrain score: {:.5f}(+/- {:.2f})\\n'.format(train_set.mean(), train_set.std()*2))\n",
    "    print('Test score: {:.5f}(+/- {:.2f})\\n'.format(test_set.mean(), test_set.std()*2))\n",
    "    print('Runtime:', elapsed_time, 'seconds\\n')\n",
    "    \n",
    "    # Generate and print the confusion matrix\n",
    "    print('Confusion matrix:\\n\\n', confusion_matrix(y_test_tfidf, y_pred))\n",
    "    \n",
    "    # Print the model's statisitcs\n",
    "    print('\\nClassification Report:\\n\\n' + classification_report(y_test_tfidf, y_pred))"
   ]
  },
  {
   "cell_type": "code",
   "execution_count": 34,
   "metadata": {},
   "outputs": [
    {
     "name": "stdout",
     "output_type": "stream",
     "text": [
      "LogisticRegression(C=1.0, class_weight=None, dual=False, fit_intercept=True,\n",
      "          intercept_scaling=1, max_iter=100, multi_class='ovr', n_jobs=1,\n",
      "          penalty='l2', random_state=None, solver='liblinear', tol=0.0001,\n",
      "          verbose=0, warm_start=False) \n",
      "\n",
      "Train score: 0.74795(+/- 0.02)\n",
      "\n",
      "Test score: 0.72667(+/- 0.02)\n",
      "\n",
      "Runtime: 9.944499506 seconds\n",
      "\n",
      "Confusion matrix:\n",
      "\n",
      " [[2909  270  102]\n",
      " [ 554  739  113]\n",
      " [ 276  176  594]]\n",
      "\n",
      "Classification Report:\n",
      "\n",
      "             precision    recall  f1-score   support\n",
      "\n",
      "         -1       0.78      0.89      0.83      3281\n",
      "          0       0.62      0.53      0.57      1406\n",
      "          1       0.73      0.57      0.64      1046\n",
      "\n",
      "avg / total       0.73      0.74      0.73      5733\n",
      "\n"
     ]
    }
   ],
   "source": [
    "# Logistic regression model\n",
    "lr = LogisticRegression()\n",
    "run_model(lr)"
   ]
  },
  {
   "cell_type": "code",
   "execution_count": 35,
   "metadata": {},
   "outputs": [
    {
     "name": "stdout",
     "output_type": "stream",
     "text": [
      "RandomForestClassifier(bootstrap=True, class_weight=None, criterion='gini',\n",
      "            max_depth=None, max_features='auto', max_leaf_nodes=None,\n",
      "            min_impurity_decrease=0.0, min_impurity_split=None,\n",
      "            min_samples_leaf=1, min_samples_split=2,\n",
      "            min_weight_fraction_leaf=0.0, n_estimators=10, n_jobs=-1,\n",
      "            oob_score=False, random_state=None, verbose=0,\n",
      "            warm_start=False) \n",
      "\n",
      "Train score: 0.83656(+/- 0.01)\n",
      "\n",
      "Test score: 0.76191(+/- 0.02)\n",
      "\n",
      "Runtime: 10.219324263999965 seconds\n",
      "\n",
      "Confusion matrix:\n",
      "\n",
      " [[3051  160   70]\n",
      " [ 306 1032   68]\n",
      " [ 140  118  788]]\n",
      "\n",
      "Classification Report:\n",
      "\n",
      "             precision    recall  f1-score   support\n",
      "\n",
      "         -1       0.87      0.93      0.90      3281\n",
      "          0       0.79      0.73      0.76      1406\n",
      "          1       0.85      0.75      0.80      1046\n",
      "\n",
      "avg / total       0.85      0.85      0.85      5733\n",
      "\n"
     ]
    }
   ],
   "source": [
    "# Random forest model\n",
    "rfc = ensemble.RandomForestClassifier(n_jobs=-1)\n",
    "run_model(rfc)"
   ]
  },
  {
   "cell_type": "code",
   "execution_count": 36,
   "metadata": {},
   "outputs": [
    {
     "name": "stdout",
     "output_type": "stream",
     "text": [
      "GradientBoostingClassifier(criterion='friedman_mse', init=None,\n",
      "              learning_rate=0.1, loss='deviance', max_depth=3,\n",
      "              max_features=None, max_leaf_nodes=None,\n",
      "              min_impurity_decrease=0.0, min_impurity_split=None,\n",
      "              min_samples_leaf=1, min_samples_split=2,\n",
      "              min_weight_fraction_leaf=0.0, n_estimators=100,\n",
      "              presort='auto', random_state=None, subsample=1.0, verbose=0,\n",
      "              warm_start=False) \n",
      "\n",
      "Train score: 0.74888(+/- 0.01)\n",
      "\n",
      "Test score: 0.73155(+/- 0.02)\n",
      "\n",
      "Runtime: 15.334319463000043 seconds\n",
      "\n",
      "Confusion matrix:\n",
      "\n",
      " [[3040  155   86]\n",
      " [ 703  605   98]\n",
      " [ 305  155  586]]\n",
      "\n",
      "Classification Report:\n",
      "\n",
      "             precision    recall  f1-score   support\n",
      "\n",
      "         -1       0.75      0.93      0.83      3281\n",
      "          0       0.66      0.43      0.52      1406\n",
      "          1       0.76      0.56      0.65      1046\n",
      "\n",
      "avg / total       0.73      0.74      0.72      5733\n",
      "\n"
     ]
    }
   ],
   "source": [
    "# Gradient Boosting Model\n",
    "gbc = ensemble.GradientBoostingClassifier()\n",
    "run_model(gbc)"
   ]
  },
  {
   "cell_type": "code",
   "execution_count": 37,
   "metadata": {},
   "outputs": [
    {
     "name": "stdout",
     "output_type": "stream",
     "text": [
      "MLPClassifier(activation='relu', alpha=0.0001, batch_size='auto', beta_1=0.9,\n",
      "       beta_2=0.999, early_stopping=False, epsilon=1e-08,\n",
      "       hidden_layer_sizes=(100, 10), learning_rate='constant',\n",
      "       learning_rate_init=0.001, max_iter=200, momentum=0.9,\n",
      "       nesterovs_momentum=True, power_t=0.5, random_state=None,\n",
      "       shuffle=True, solver='adam', tol=0.0001, validation_fraction=0.1,\n",
      "       verbose=False, warm_start=False) \n",
      "\n",
      "Train score: 0.83325(+/- 0.01)\n",
      "\n",
      "Test score: 0.76766(+/- 0.03)\n",
      "\n",
      "Runtime: 31.821064033000084 seconds\n",
      "\n",
      "Confusion matrix:\n",
      "\n",
      " [[2861  332   88]\n",
      " [ 179 1172   55]\n",
      " [ 105  166  775]]\n",
      "\n",
      "Classification Report:\n",
      "\n",
      "             precision    recall  f1-score   support\n",
      "\n",
      "         -1       0.91      0.87      0.89      3281\n",
      "          0       0.70      0.83      0.76      1406\n",
      "          1       0.84      0.74      0.79      1046\n",
      "\n",
      "avg / total       0.85      0.84      0.84      5733\n",
      "\n"
     ]
    }
   ],
   "source": [
    "# Neural Network Model\n",
    "mlp = MLPClassifier(hidden_layer_sizes=(100,10))\n",
    "run_model(mlp)"
   ]
  },
  {
   "cell_type": "code",
   "execution_count": 38,
   "metadata": {},
   "outputs": [
    {
     "name": "stdout",
     "output_type": "stream",
     "text": [
      "Scores: \n",
      "                  Model  Train score  Test score    Runtime\n",
      "0  Logistic regression     0.747952    0.726670   9.944500\n",
      "1        Random forest     0.836561    0.761911  10.219324\n",
      "2    Gradient Boosting     0.748881    0.731551  15.334319\n",
      "3      Neural Networks     0.833247    0.767661  31.821064 \n",
      "\n"
     ]
    }
   ],
   "source": [
    "# Create dataframes for the models and the scores\n",
    "results = pd.DataFrame({'Model': models,\n",
    "                        'Train score': train_score,\n",
    "                        'Test score': test_score,\n",
    "                        'Runtime': runtime})\n",
    "\n",
    "# Print out the results\n",
    "print('Scores: \\n', results, '\\n')"
   ]
  },
  {
   "cell_type": "markdown",
   "metadata": {},
   "source": [
    "### Model Comparison\n",
    "\n",
    "So, after running all 4 types of models it seems as though ___ is the most accurate, and ___ has the longest runtime. Since ___ has the best accuracy, let's see if we can fine tune the parameters using GridSearchCV to get the best model."
   ]
  },
  {
   "cell_type": "code",
   "execution_count": 39,
   "metadata": {},
   "outputs": [
    {
     "data": {
      "text/plain": [
       "GridSearchCV(cv=5, error_score='raise',\n",
       "       estimator=RandomForestClassifier(bootstrap=True, class_weight=None, criterion='gini',\n",
       "            max_depth=None, max_features='auto', max_leaf_nodes=None,\n",
       "            min_impurity_decrease=0.0, min_impurity_split=None,\n",
       "            min_samples_leaf=1, min_samples_split=2,\n",
       "            min_weight_fraction_leaf=0.0, n_estimators=10, n_jobs=-1,\n",
       "            oob_score=False, random_state=None, verbose=0,\n",
       "            warm_start=False),\n",
       "       fit_params=None, iid=True, n_jobs=-2,\n",
       "       param_grid={'max_features': ['sqrt'], 'n_estimators': [10, 20, 40, 60], 'max_depth': [12, 20, 40], 'min_samples_leaf': [4, 8]},\n",
       "       pre_dispatch='2*n_jobs', refit=True, return_train_score='warn',\n",
       "       scoring=None, verbose=0)"
      ]
     },
     "execution_count": 39,
     "metadata": {},
     "output_type": "execute_result"
    }
   ],
   "source": [
    "# Setting up grid search to return the best results for the random forest model\n",
    "param_grid = {'max_features': ['sqrt'],\n",
    "              'n_estimators' : [10, 20, 40, 60],\n",
    "              'max_depth' : [12, 20, 40],\n",
    "              'min_samples_leaf' : [4, 8]}\n",
    "\n",
    "# Run grid search to find ideal parameters\n",
    "rfc_grid = GridSearchCV(rfc, param_grid, cv=5, n_jobs=-2)\n",
    "\n",
    "rfc_grid.fit(X_train_tfidf, y_train_tfidf)"
   ]
  },
  {
   "cell_type": "code",
   "execution_count": 40,
   "metadata": {},
   "outputs": [
    {
     "name": "stdout",
     "output_type": "stream",
     "text": [
      "RandomForestClassifier(bootstrap=True, class_weight=None, criterion='gini',\n",
      "            max_depth=40, max_features='sqrt', max_leaf_nodes=None,\n",
      "            min_impurity_decrease=0.0, min_impurity_split=None,\n",
      "            min_samples_leaf=4, min_samples_split=2,\n",
      "            min_weight_fraction_leaf=0.0, n_estimators=40, n_jobs=1,\n",
      "            oob_score=False, random_state=None, verbose=0,\n",
      "            warm_start=False) \n",
      "\n",
      "Train score: 0.76458(+/- 0.01)\n",
      "\n",
      "Test score: 0.72841(+/- 0.01)\n",
      "\n",
      "Runtime: 9.577428551000025 seconds\n",
      "\n",
      "Confusion matrix:\n",
      "\n",
      " [[3046  151   84]\n",
      " [ 606  718   82]\n",
      " [ 259  155  632]]\n",
      "\n",
      "Classification Report:\n",
      "\n",
      "             precision    recall  f1-score   support\n",
      "\n",
      "         -1       0.78      0.93      0.85      3281\n",
      "          0       0.70      0.51      0.59      1406\n",
      "          1       0.79      0.60      0.69      1046\n",
      "\n",
      "avg / total       0.76      0.77      0.75      5733\n",
      "\n"
     ]
    }
   ],
   "source": [
    "# Run the random forest with the 'optimized' parameters\n",
    "rfc_2 = ensemble.RandomForestClassifier(**rfc_grid.best_params_)\n",
    "run_model(rfc_2)\n",
    "models.append('Random forest (Optimized)')"
   ]
  },
  {
   "cell_type": "code",
   "execution_count": 47,
   "metadata": {},
   "outputs": [
    {
     "name": "stdout",
     "output_type": "stream",
     "text": [
      "Scores: \n",
      "                        Model  Train_score  Test_score    Runtime\n",
      "0        Logistic regression     0.747952    0.726670   9.944500\n",
      "1              Random forest     0.836561    0.761911  10.219324\n",
      "2          Gradient Boosting     0.748881    0.731551  15.334319\n",
      "3            Neural Networks     0.833247    0.767661  31.821064\n",
      "4  Random forest (Optimized)     0.764580    0.728411   9.577429 \n",
      "\n"
     ]
    }
   ],
   "source": [
    "# Create dataframes for the models and the scores\n",
    "results = pd.DataFrame({'Model': models,\n",
    "                        'Train_score': train_score,\n",
    "                        'Test_score': test_score,\n",
    "                        'Runtime': runtime})\n",
    "\n",
    "# Print out the results\n",
    "print('Scores: \\n', results, '\\n')"
   ]
  },
  {
   "cell_type": "code",
   "execution_count": 50,
   "metadata": {},
   "outputs": [
    {
     "data": {
      "application/vnd.plotly.v1+json": {
       "data": [
        {
         "name": "Test Score",
         "type": "bar",
         "uid": "fade6dfe-8865-4f23-86c5-2156f688c0ad",
         "x": [
          "Logistic regression",
          "Random forest",
          "Gradient Boosting",
          "Neural Networks",
          "Random forest (Optimized)"
         ],
         "y": [
          0.7266696740621255,
          0.7619113365138819,
          0.7315512236909856,
          0.767660929831996,
          0.7284112294323769
         ]
        },
        {
         "name": "Runtime",
         "type": "bar",
         "uid": "7d6b06f1-9941-4f3f-8bc0-13148730bdd5",
         "x": [
          "Logistic regression",
          "Random forest",
          "Gradient Boosting",
          "Neural Networks",
          "Random forest (Optimized)"
         ],
         "y": [
          9.944499506,
          10.219324263999965,
          15.334319463000043,
          31.821064033000084,
          9.577428551000025
         ]
        }
       ],
       "layout": {
        "barmode": "group",
        "title": "Results"
       }
      },
      "text/html": [
       "<div id=\"0f3048be-79bb-407d-a117-9ece257be85c\" style=\"height: 525px; width: 100%;\" class=\"plotly-graph-div\"></div><script type=\"text/javascript\">require([\"plotly\"], function(Plotly) { window.PLOTLYENV=window.PLOTLYENV || {};window.PLOTLYENV.BASE_URL=\"https://plot.ly\";Plotly.newPlot(\"0f3048be-79bb-407d-a117-9ece257be85c\", [{\"name\": \"Test Score\", \"x\": [\"Logistic regression\", \"Random forest\", \"Gradient Boosting\", \"Neural Networks\", \"Random forest (Optimized)\"], \"y\": [0.7266696740621255, 0.7619113365138819, 0.7315512236909856, 0.767660929831996, 0.7284112294323769], \"type\": \"bar\", \"uid\": \"fade6dfe-8865-4f23-86c5-2156f688c0ad\"}, {\"name\": \"Runtime\", \"x\": [\"Logistic regression\", \"Random forest\", \"Gradient Boosting\", \"Neural Networks\", \"Random forest (Optimized)\"], \"y\": [9.944499506, 10.219324263999965, 15.334319463000043, 31.821064033000084, 9.577428551000025], \"type\": \"bar\", \"uid\": \"7d6b06f1-9941-4f3f-8bc0-13148730bdd5\"}], {\"barmode\": \"group\", \"title\": \"Results\"}, {\"showLink\": true, \"linkText\": \"Export to plot.ly\"})});</script><script type=\"text/javascript\">window.addEventListener(\"resize\", function(){window._Plotly.Plots.resize(document.getElementById(\"0f3048be-79bb-407d-a117-9ece257be85c\"));});</script>"
      ],
      "text/vnd.plotly.v1+html": [
       "<div id=\"0f3048be-79bb-407d-a117-9ece257be85c\" style=\"height: 525px; width: 100%;\" class=\"plotly-graph-div\"></div><script type=\"text/javascript\">require([\"plotly\"], function(Plotly) { window.PLOTLYENV=window.PLOTLYENV || {};window.PLOTLYENV.BASE_URL=\"https://plot.ly\";Plotly.newPlot(\"0f3048be-79bb-407d-a117-9ece257be85c\", [{\"name\": \"Test Score\", \"x\": [\"Logistic regression\", \"Random forest\", \"Gradient Boosting\", \"Neural Networks\", \"Random forest (Optimized)\"], \"y\": [0.7266696740621255, 0.7619113365138819, 0.7315512236909856, 0.767660929831996, 0.7284112294323769], \"type\": \"bar\", \"uid\": \"fade6dfe-8865-4f23-86c5-2156f688c0ad\"}, {\"name\": \"Runtime\", \"x\": [\"Logistic regression\", \"Random forest\", \"Gradient Boosting\", \"Neural Networks\", \"Random forest (Optimized)\"], \"y\": [9.944499506, 10.219324263999965, 15.334319463000043, 31.821064033000084, 9.577428551000025], \"type\": \"bar\", \"uid\": \"7d6b06f1-9941-4f3f-8bc0-13148730bdd5\"}], {\"barmode\": \"group\", \"title\": \"Results\"}, {\"showLink\": true, \"linkText\": \"Export to plot.ly\"})});</script><script type=\"text/javascript\">window.addEventListener(\"resize\", function(){window._Plotly.Plots.resize(document.getElementById(\"0f3048be-79bb-407d-a117-9ece257be85c\"));});</script>"
      ]
     },
     "metadata": {},
     "output_type": "display_data"
    }
   ],
   "source": [
    "# (Heavily consider separating the two later)\n",
    "\n",
    "trace1 = go.Bar(\n",
    "    x = results.Model,\n",
    "    y = results.Test_score,\n",
    "    name = 'Test Score'\n",
    ")\n",
    "\n",
    "trace2 = go.Bar(\n",
    "    x = results.Model,\n",
    "    y = results.Runtime,\n",
    "    name = 'Runtime'\n",
    ")\n",
    "\n",
    "data = [trace1, trace2]\n",
    "layout = go.Layout(\n",
    "    title = 'Results',\n",
    "    barmode = 'group'\n",
    ")\n",
    "\n",
    "fig = go.Figure(data=data, layout=layout)\n",
    "py.offline.iplot(fig, filename='stacked-bar')"
   ]
  },
  {
   "cell_type": "markdown",
   "metadata": {},
   "source": [
    "# Testing Set\n",
    "\n",
    "Now, it's time to add our testing data set. What if we decide to look at more recent tweets from the same airline, or how about we also decide to look at other airlines that weren't even in our dataset? \n",
    "\n",
    "Enough with the hypotheticals. The next dataset is a collection of recent tweets containing the testing data that we want and while we won't be able to assess its accuracy since we don't have the correct values, we should be able to get a good idea of measuring sentiment analysis for more recent tweets targetting the airlines in our dataset, as well as other airlines that actually aren't in our model. \n",
    "\n",
    "What this will demonstrate is how useful our models are for predicting sentiment analysis for tweets that our model has not seen yet."
   ]
  },
  {
   "cell_type": "code",
   "execution_count": null,
   "metadata": {},
   "outputs": [],
   "source": [
    "# Import the training dataset\n",
    "tweets_test = pd.read_csv(\"airline_tweets/test_set.csv\")\n",
    "\n",
    "# Preview the data\n",
    "tweets_test.head()"
   ]
  },
  {
   "cell_type": "code",
   "execution_count": null,
   "metadata": {},
   "outputs": [],
   "source": []
  }
 ],
 "metadata": {
  "kernelspec": {
   "display_name": "Python 3",
   "language": "python",
   "name": "python3"
  },
  "language_info": {
   "codemirror_mode": {
    "name": "ipython",
    "version": 3
   },
   "file_extension": ".py",
   "mimetype": "text/x-python",
   "name": "python",
   "nbconvert_exporter": "python",
   "pygments_lexer": "ipython3",
   "version": "3.7.0"
  }
 },
 "nbformat": 4,
 "nbformat_minor": 2
}
